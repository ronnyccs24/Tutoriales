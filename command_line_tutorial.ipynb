{
 "cells": [
  {
   "cell_type": "markdown",
   "metadata": {},
   "source": [
    "### Limpieza de datos en ficheros CSV usando la Command Line and csvkit\n",
    "\n",
    "El Museo de Arte Moderno es uno de los museos más influyentes en el mundo y han publicado un conjunto de datasets sobre las obras de arte en su colección. Los datasets, como TODOS los que nos encontremos en nuestra vida diaria (en el poco tiempo que tengo como Data Scientist no he visto el primer dataset que no tenga que limpiar) requieren de tratamiento y limpieza.\n",
    "\n",
    "En este artículo, aprenderemos cómo usar la biblioteca csvkit para adquirir y explorar datos tabulares.\n",
    "\n",
    "¿Por qué la línea de comandos?\n",
    "Gran pregunta! Antes de empezar en esto, me la había hecho millones de veces y la respuesta es que cuando se trabaja en entornos de Data Science en la nube (cloud), a veces sólo se tiene acceso a la shell de un servidor. En estas situaciones, el dominio de la línea de comandos es una verdadera ventaja. Igualmente, cuando se trabaja con Big Data y datasets muuuuuuy grandes, es muy eficiente trabajar por esta vía y que nuestra computadora (ordenador) no se guinde!\n",
    "\n",
    "A medida que nos volvemos más eficientes, el uso de la línea de comandos para algunas tareas de data science es mucho más rápida que escribir un script de Python o un job de Hadoop. \n",
    "\n",
    "Por último, la línea de comandos tiene un gran ecosistema de herramientas. Esto hace que ciertos tipos de tareas, especialmente aquellas que involucren múltiples archivos, sean increíblemente fáciles.\n",
    "\n",
    "Si eres nuevo en la línea de comandos, te recomiendo que consultes este curso: https://www.dataquest.io/subject/the-command-line?.\n"
   ]
  },
  {
   "cell_type": "markdown",
   "metadata": {},
   "source": [
    "Csvkit\n",
    "Csvkit es una biblioteca optimizada para trabajar con archivos CSV. Está escrito en Python, pero la interfaz principal es la línea de comandos. Puede instalar csvkit utilizando pip:\n",
    "\n",
    "(Nota: para trabajar desde Jupyter Notebook con la línea de comando, debemos preceder nuestras peticiones con el simbolo \"!\". Esto le indica al notebook que el comando que se ejecuta es de la command line)"
   ]
  },
  {
   "cell_type": "code",
   "execution_count": null,
   "metadata": {
    "collapsed": false
   },
   "outputs": [],
   "source": [
    "! pip install csvkit"
   ]
  },
  {
   "cell_type": "markdown",
   "metadata": {},
   "source": [
    "Vas a necesitar la librería para poder seguir con el tutorial."
   ]
  },
  {
   "cell_type": "markdown",
   "metadata": {},
   "source": [
    "Data acquisition\n",
    "\n",
    "El dataset de las obras de arte del MOMA está disponible en el repo del GitHub del museo. Usemos el comando curl para descargar el fichero Artworks.csv desde Github. \n",
    "\n",
    "curl es una herramienta que está dentro de la mayoría de los ambientes shell y que permite la trasferencia de data entre servidores. \n",
    "\n",
    "El dataset lo podemos conseguir en el Github del museo (https://github.com/MuseumofModernArt/collection). Debemos verificar que tenemos el link en Raw data. Finalmente usamos el operador > para redireccionar la salida de nuestro comando curl a un fichero llamado artworks.csv."
   ]
  },
  {
   "cell_type": "code",
   "execution_count": 13,
   "metadata": {
    "collapsed": false
   },
   "outputs": [
    {
     "name": "stdout",
     "output_type": "stream",
     "text": [
      "  % Total    % Received % Xferd  Average Speed   Time    Time     Time  Current\n",
      "                                 Dload  Upload   Total   Spent    Left  Speed\n",
      "100 49.4M  100 49.4M    0     0  7361k      0  0:00:06  0:00:06 --:--:-- 8572k\n"
     ]
    }
   ],
   "source": [
    "! curl https://media.githubusercontent.com/media/MuseumofModernArt/collection/master/Artworks.csv > artworks.csv"
   ]
  },
  {
   "cell_type": "markdown",
   "metadata": {},
   "source": [
    "Verificamos que efectivamente se descargó el fichero que queremos."
   ]
  },
  {
   "cell_type": "code",
   "execution_count": 14,
   "metadata": {
    "collapsed": false
   },
   "outputs": [
    {
     "name": "stdout",
     "output_type": "stream",
     "text": [
      "\u001b[1m\u001b[36m.\u001b[m\u001b[m                             abaloneNames.txt\r\n",
      "\u001b[1m\u001b[36m..\u001b[m\u001b[m                            artworks.csv\r\n",
      ".DS_Store                     \u001b[31mign.csv\u001b[m\u001b[m\r\n",
      "\u001b[1m\u001b[36m.ipynb_checkpoints\u001b[m\u001b[m            ign.csv.zip\r\n",
      "Sample_Submission_Tm9Lura.csv test.csv\r\n",
      "Untitled.ipynb                train.csv\r\n",
      "Untitled1.ipynb               wine.csv\r\n",
      "abalone.csv                   winequality-red.csv\r\n"
     ]
    }
   ],
   "source": [
    "! ls -a"
   ]
  },
  {
   "cell_type": "markdown",
   "metadata": {},
   "source": [
    "Data exploration\n",
    "\n",
    "Podemos usar el comando head para mostrar las primeras n líneas de un fichero (10 por defecto). Para mostrar las primeras 3, cualquiera de estos comandos funcionaran:"
   ]
  },
  {
   "cell_type": "code",
   "execution_count": 18,
   "metadata": {
    "collapsed": false
   },
   "outputs": [
    {
     "name": "stdout",
     "output_type": "stream",
     "text": [
      "﻿Title,Artist,ConstituentID,ArtistBio,Nationality,BeginDate,EndDate,Gender,Date,Medium,Dimensions,CreditLine,AccessionNumber,Classification,Department,DateAcquired,Cataloged,ObjectID,URL,ThumbnailURL,Circumference (cm),Depth (cm),Diameter (cm),Height (cm),Length (cm),Weight (kg),Width (cm),Seat Height (cm),Duration (sec.)\r\n",
      "\"Ferdinandsbrücke Project, Vienna, Austria, Elevation, preliminary version\",Otto Wagner,6210,\"(Austrian, 1841–1918)\",(Austrian),(1841),(1918),(Male),1896,Ink and cut-and-pasted painted pages on paper,\"19 1/8 x 66 1/2\"\" (48.6 x 168.9 cm)\",Fractional and promised gift of Jo Carole and Ronald S. Lauder,885.1996,Architecture,Architecture & Design,1996-04-09,Y,2,http://www.moma.org/collection/works/2,http://www.moma.org/media/W1siZiIsIjU5NDA1Il0sWyJwIiwiY29udmVydCIsIi1yZXNpemUgMzAweDMwMFx1MDAzZSJdXQ.jpg?sha=137b8455b1ec6167,,,,,,,,,\r\n",
      "\"City of Music, National Superior Conservatory of Music and Dance, Paris, France, View from interior courtyard\",Christian de Portzamparc,7470,\"(French, born 1944)\",(French),(1944),(0),(Male),1987,Paint and colored pencil on print,\"16 x 11 3/4\"\" (40.6 x 29.8 cm)\",Gift of the architect in honor of Lily Auchincloss,1.1995,Architecture,Architecture & Design,1995-01-17,Y,3,http://www.moma.org/collection/works/3,http://www.moma.org/media/W1siZiIsIjk3Il0sWyJwIiwiY29udmVydCIsIi1yZXNpemUgMzAweDMwMFx1MDAzZSJdXQ.jpg?sha=55b65fa4368fe00a,,,,,,,,,\r\n"
     ]
    }
   ],
   "source": [
    "! head -n 3 artworks.csv"
   ]
  },
  {
   "cell_type": "code",
   "execution_count": 19,
   "metadata": {
    "collapsed": false
   },
   "outputs": [
    {
     "name": "stdout",
     "output_type": "stream",
     "text": [
      "﻿Title,Artist,ConstituentID,ArtistBio,Nationality,BeginDate,EndDate,Gender,Date,Medium,Dimensions,CreditLine,AccessionNumber,Classification,Department,DateAcquired,Cataloged,ObjectID,URL,ThumbnailURL,Circumference (cm),Depth (cm),Diameter (cm),Height (cm),Length (cm),Weight (kg),Width (cm),Seat Height (cm),Duration (sec.)\r\n",
      "\"Ferdinandsbrücke Project, Vienna, Austria, Elevation, preliminary version\",Otto Wagner,6210,\"(Austrian, 1841–1918)\",(Austrian),(1841),(1918),(Male),1896,Ink and cut-and-pasted painted pages on paper,\"19 1/8 x 66 1/2\"\" (48.6 x 168.9 cm)\",Fractional and promised gift of Jo Carole and Ronald S. Lauder,885.1996,Architecture,Architecture & Design,1996-04-09,Y,2,http://www.moma.org/collection/works/2,http://www.moma.org/media/W1siZiIsIjU5NDA1Il0sWyJwIiwiY29udmVydCIsIi1yZXNpemUgMzAweDMwMFx1MDAzZSJdXQ.jpg?sha=137b8455b1ec6167,,,,,,,,,\r\n",
      "\"City of Music, National Superior Conservatory of Music and Dance, Paris, France, View from interior courtyard\",Christian de Portzamparc,7470,\"(French, born 1944)\",(French),(1944),(0),(Male),1987,Paint and colored pencil on print,\"16 x 11 3/4\"\" (40.6 x 29.8 cm)\",Gift of the architect in honor of Lily Auchincloss,1.1995,Architecture,Architecture & Design,1995-01-17,Y,3,http://www.moma.org/collection/works/3,http://www.moma.org/media/W1siZiIsIjk3Il0sWyJwIiwiY29udmVydCIsIi1yZXNpemUgMzAweDMwMFx1MDAzZSJdXQ.jpg?sha=55b65fa4368fe00a,,,,,,,,,\r\n"
     ]
    }
   ],
   "source": [
    "! head -3 artworks.csv"
   ]
  },
  {
   "cell_type": "markdown",
   "metadata": {},
   "source": [
    "Como la mayoría de los datasets con los que habitualmente se trabaja, podemos ver que la primera fila es el header o cabecera. Este nos indica el nombre de las columnas. \n",
    "\n",
    "Aparte de eso, la salida es desordenada y es difícil ver o detallar alguna información adicional. Necesitamos una herramienta que sepa cómo mostrar archivos CSV de una manera legible."
   ]
  },
  {
   "cell_type": "markdown",
   "metadata": {},
   "source": [
    "csvlook\n",
    "\n",
    "Csvlook es una herramienta dentro de csvkit que nos permite mostrar y previsualizar un archivo CSV como una tabla. \n",
    "Si escribimos Csvlook artworks.csv mostrará todo el dataset, lo cual no tiene mucho sentido porque nos mostrará TODO, en estos casos siempre es ideal trabajar con pocas filas, que ya nos permite tener una idea del resto del dataset. \n",
    "Podemos hacer esto de la siguiente forma: "
   ]
  },
  {
   "cell_type": "code",
   "execution_count": 20,
   "metadata": {
    "collapsed": false
   },
   "outputs": [
    {
     "name": "stdout",
     "output_type": "stream",
     "text": [
      "| ﻿Title                                                                                                        | Artist                   | ConstituentID | ArtistBio                                 | Nationality | BeginDate | EndDate | Gender |  Date | Medium                                                         | Dimensions | CreditLine                                                              | AccessionNumber | Classification | Department            | DateAcquired | Cataloged | ObjectID | URL                                    | ThumbnailURL                                                                                                                  | Circumference (cm) | Depth (cm) | Diameter (cm) | Height (cm) | Length (cm) | Weight (kg) | Width (cm) | Seat Height (cm) | Duration (sec.) |\r\n",
      "| ------------------------------------------------------------------------------------------------------------- | ------------------------ | ------------- | ----------------------------------------- | ----------- | --------- | ------- | ------ | ----- | -------------------------------------------------------------- | ---------- | ----------------------------------------------------------------------- | --------------- | -------------- | --------------------- | ------------ | --------- | -------- | -------------------------------------- | ----------------------------------------------------------------------------------------------------------------------------- | ------------------ | ---------- | ------------- | ----------- | ----------- | ----------- | ---------- | ---------------- | --------------- |\r\n",
      "| Ferdinandsbrücke Project, Vienna, Austria, Elevation, preliminary version                                     | Otto Wagner              |         6.210 | (Austrian, 1841–1918)                     | (Austrian)  | (1841)    | (1918)  | (Male) | 1.896 | Ink and cut-and-pasted painted pages on paper                  | 2048-06-02 | Fractional and promised gift of Jo Carole and Ronald S. Lauder          |        885,200… | Architecture   | Architecture & Design |   1996-04-09 |      True |        2 | http://www.moma.org/collection/works/2 | http://www.moma.org/media/W1siZiIsIjU5NDA1Il0sWyJwIiwiY29udmVydCIsIi1yZXNpemUgMzAweDMwMFx1MDAzZSJdXQ.jpg?sha=137b8455b1ec6167 |                    |            |               |             |             |             |            |                  |                 |\r\n",
      "| City of Music, National Superior Conservatory of Music and Dance, Paris, France, View from interior courtyard | Christian de Portzamparc |         7.470 | (French, born 1944)                       | (French)    | (1944)    | (0)     | (Male) | 1.987 | Paint and colored pencil on print                              | 2017-01-17 | Gift of the architect in honor of Lily Auchincloss                      |          1,200… | Architecture   | Architecture & Design |   1995-01-17 |      True |        3 | http://www.moma.org/collection/works/3 | http://www.moma.org/media/W1siZiIsIjk3Il0sWyJwIiwiY29udmVydCIsIi1yZXNpemUgMzAweDMwMFx1MDAzZSJdXQ.jpg?sha=55b65fa4368fe00a     |                    |            |               |             |             |             |            |                  |                 |\r\n",
      "| Villa near Vienna Project, Outside Vienna, Austria, Elevation                                                 | Emil Hoppe               |         7.605 | (Austrian, 1876–1957)                     | (Austrian)  | (1876)    | (1957)  | (Male) | 1.903 | Graphite, pen, color pencil, ink, and gouache on tracing paper | 2017-01-17 | Gift of Jo Carole and Ronald S. Lauder                                  |          1,200… | Architecture   | Architecture & Design |   1997-01-15 |      True |        4 | http://www.moma.org/collection/works/4 | http://www.moma.org/media/W1siZiIsIjk4Il0sWyJwIiwiY29udmVydCIsIi1yZXNpemUgMzAweDMwMFx1MDAzZSJdXQ.jpg?sha=fdcfca4db3acac1f     |                    |            |               |             |             |             |            |                  |                 |\r\n",
      "| The Manhattan Transcripts Project, New York, New York, Introductory panel to Episode 1: The Park              | Bernard Tschumi          |         7.056 | (French and Swiss, born Switzerland 1944) | ()          | (1944)    | (0)     | (Male) | 1.980 | Photographic reproduction with colored synthetic laminate      | 1950-08-01 | Purchase and partial gift of the architect in honor of Lily Auchincloss |          2,200… | Architecture   | Architecture & Design |   1995-01-17 |      True |        5 | http://www.moma.org/collection/works/5 | http://www.moma.org/media/W1siZiIsIjEyNCJdLFsicCIsImNvbnZlcnQiLCItcmVzaXplIDMwMHgzMDBcdTAwM2UiXV0.jpg?sha=c89b9071486760a5    |                    |            |               |             |             |             |            |                  |                 |\r\n"
     ]
    }
   ],
   "source": [
    "! head -5 artworks.csv | csvlook"
   ]
  },
  {
   "cell_type": "markdown",
   "metadata": {},
   "source": [
    "En datasets con campos muy grandes o que tienen mucha información, lo anterior sigue siendo nada atractivo. Debemos buscar una forma de poder ver estos datos y entenderlos ya que sigue siendo dificil hacer una exploración allí. \n",
    "\n",
    "Veamos como podemos utilizar csvcut para seleccionar sólo algunas columnas de interés y mostrarlas. csvcut es una herramienta dentro del ToolKit que permite permite cortar y modificar las columnas en el CSV. Primero vamos a enumerar todas las columnas usando el indicador -n:"
   ]
  },
  {
   "cell_type": "code",
   "execution_count": 21,
   "metadata": {
    "collapsed": false
   },
   "outputs": [
    {
     "name": "stdout",
     "output_type": "stream",
     "text": [
      "  1: ﻿Title\r\n",
      "  2: Artist\r\n",
      "  3: ConstituentID\r\n",
      "  4: ArtistBio\r\n",
      "  5: Nationality\r\n",
      "  6: BeginDate\r\n",
      "  7: EndDate\r\n",
      "  8: Gender\r\n",
      "  9: Date\r\n",
      " 10: Medium\r\n",
      " 11: Dimensions\r\n",
      " 12: CreditLine\r\n",
      " 13: AccessionNumber\r\n",
      " 14: Classification\r\n",
      " 15: Department\r\n",
      " 16: DateAcquired\r\n",
      " 17: Cataloged\r\n",
      " 18: ObjectID\r\n",
      " 19: URL\r\n",
      " 20: ThumbnailURL\r\n",
      " 21: Circumference (cm)\r\n",
      " 22: Depth (cm)\r\n",
      " 23: Diameter (cm)\r\n",
      " 24: Height (cm)\r\n",
      " 25: Length (cm)\r\n",
      " 26: Weight (kg)\r\n",
      " 27: Width (cm)\r\n",
      " 28: Seat Height (cm)\r\n",
      " 29: Duration (sec.)\r\n"
     ]
    }
   ],
   "source": [
    "! csvcut -n artworks.csv"
   ]
  },
  {
   "cell_type": "markdown",
   "metadata": {},
   "source": [
    "Podemos usar el flag -c para especificar la o las columnas que queremos."
   ]
  },
  {
   "cell_type": "code",
   "execution_count": null,
   "metadata": {
    "collapsed": true
   },
   "outputs": [],
   "source": [
    "! csvcut -c 1,2,3 artworks.csv | csvlook "
   ]
  },
  {
   "cell_type": "code",
   "execution_count": null,
   "metadata": {
    "collapsed": true
   },
   "outputs": [],
   "source": []
  },
  {
   "cell_type": "code",
   "execution_count": null,
   "metadata": {
    "collapsed": true
   },
   "outputs": [],
   "source": [
    "QUEDE AQUI"
   ]
  },
  {
   "cell_type": "code",
   "execution_count": null,
   "metadata": {
    "collapsed": true
   },
   "outputs": [],
   "source": []
  },
  {
   "cell_type": "code",
   "execution_count": null,
   "metadata": {
    "collapsed": true
   },
   "outputs": [],
   "source": []
  },
  {
   "cell_type": "markdown",
   "metadata": {},
   "source": [
    "We can then use the -c flag to specify the columns we want. csvcut -c 1,2,3 artworks.csv | csvlook \n",
    "will return the first 3 columns. You can also use the column names themselves: csvcut -c Artist,ArtistBio,Date.\n",
    "\n",
    "Running either command will display the 3 columns for the entire dataset so we’ll need to take advantage of piping to view just a few lines.\n",
    "\n",
    "We can consult the csvkit documentation to read about piping between csvkit utilities:\n",
    "\n",
    "All csvkit utilities accept an input file as “standard in”, in addition to as a filename. This means that we can make the output of one csvkit utility become the input of the next.\n",
    "\n",
    "This means we can pipe the stdout of csvcut to the stdin of csvlook! We can build the following pipeline:\n",
    "\n",
    "extract just the first 10 lines using head\n",
    "filter to just the first 3 columns using csvcut\n",
    "display in a clean way using csvlook\n",
    "  \n",
    "head -10 artworks.csv | csvcut -c 1,2,3 | csvlook"
   ]
  },
  {
   "cell_type": "markdown",
   "metadata": {},
   "source": [
    "csvgrep\n",
    "When working with historical datasets, we need to make sure the date and time columns are formatted correctly (or even basic time series plots won’t work). Let’s explore the Date and DateAcquired columns:\n",
    "\n",
    "  \n",
    "head -20 artworks.csv | csvcut -c Date,DateAcquired | csvlook"
   ]
  },
  {
   "cell_type": "code",
   "execution_count": null,
   "metadata": {
    "collapsed": true
   },
   "outputs": [],
   "source": [
    "While the first 20 values in DateAcquired look fine, the Date column has some values that won’t play nicely with most data visualization tools like 1976-77. We can easily deal with this by just selecting the first year in the range (e.g. 1976 from the range 1976-77). Before we do that, let’s figure out how many lines match this pattern.\n",
    "\n",
    "We can use the csvgrep tool to extract all values in a column (or columns) that match a regular expression. We specify the columns we want csvgrep to match on using the -c flag. We specify the regular expression we want csvgrep to use using the -regex flag.\n",
    "\n",
    "The regex ^([0-9]*-[0-9]*) matches pairs of numeric values that are separated by a hyphen (-). Since we’re searching for instances of the pattern on the Date column, we write the following:\n",
    "\n",
    "  \n",
    "csvgrep --c Date --regex \"^([0-9]*-[0-9]*)\"\n",
    "Let’s modify and run the pipeline we’ve built to incorporate csvgrep:\n",
    "\n",
    "  \n",
    "head -10 artworks.csv | csvcut -c Date | csvgrep --c Date --regex \"^([0-9]*-[0-9]*)\" | csvlook"
   ]
  },
  {
   "cell_type": "markdown",
   "metadata": {},
   "source": [
    "csvstat\n",
    "Wonderful! Now that we know it works, let’s apply the regular expression over the entire Date column (instead of just the first 10 lines) and determine how many lines match this pattern. The csvstat tool takes a CSV as an input (stdin) and computes summary statistics. We can use the --count flag to specify that we only want the line count. We can also remove csvcut, head, and csvlook since we don’t need to display the output.\n",
    "\n",
    "  \n",
    "csvgrep --c Date --regex \"^([0-9]*-[0-9]*)\" artworks.csv | csvstat --count\n",
    "Row count: 18073\n",
    "It looks like 18,073 lines match this pattern. Let’s now calculate:\n",
    "\n",
    "how many lines match the 4 digit year pattern\n",
    "how many total lines the dataset contains\n",
    "We can use the regex (^[0-9]{4}$) to find all 4 digit year values and pipe the results to csvstat:\n",
    "\n",
    "  \n",
    "csvgrep --c Date --regex \"[0-9]{4}$\" artworks.csv | csvstat --count\n",
    "Row count: 76263\n",
    "Finally, to get the total number of lines of a dataset, we can use the wc command with the -l flag (to display just the number of `lines):\n",
    "\n",
    "  \n",
    "wc -l artworks.csv\n",
    "137382 artworks.csv\n",
    "If we combine the number of lines that match the 4 digit year regex (76263) with the number of lines that match the year range regex (18073), we get (94336) lines. Given that there are 137,382 lines total, this is a great starting point for our analysis!"
   ]
  },
  {
   "cell_type": "code",
   "execution_count": null,
   "metadata": {
    "collapsed": true
   },
   "outputs": [],
   "source": [
    "Ronny De Abreu.\n",
    "Tomando como referencia: https://www.dataquest.io/blog/data-cleaning-command-line/"
   ]
  },
  {
   "cell_type": "code",
   "execution_count": null,
   "metadata": {
    "collapsed": true
   },
   "outputs": [],
   "source": []
  },
  {
   "cell_type": "code",
   "execution_count": null,
   "metadata": {
    "collapsed": true
   },
   "outputs": [],
   "source": []
  },
  {
   "cell_type": "code",
   "execution_count": null,
   "metadata": {
    "collapsed": true
   },
   "outputs": [],
   "source": []
  },
  {
   "cell_type": "code",
   "execution_count": null,
   "metadata": {
    "collapsed": true
   },
   "outputs": [],
   "source": [
    "Hacer este mismo con Python --> https://www.dataquest.io/blog/data-cleaning-with-python/"
   ]
  }
 ],
 "metadata": {
  "anaconda-cloud": {},
  "kernelspec": {
   "display_name": "Python 2",
   "language": "python",
   "name": "python2"
  },
  "language_info": {
   "codemirror_mode": {
    "name": "ipython",
    "version": 2
   },
   "file_extension": ".py",
   "mimetype": "text/x-python",
   "name": "python",
   "nbconvert_exporter": "python",
   "pygments_lexer": "ipython2",
   "version": "2.7.12"
  }
 },
 "nbformat": 4,
 "nbformat_minor": 1
}
