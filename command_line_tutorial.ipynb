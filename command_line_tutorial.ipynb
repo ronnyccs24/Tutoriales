{
 "cells": [
  {
   "cell_type": "markdown",
   "metadata": {},
   "source": [
    "## Limpieza de datos en ficheros CSV usando la Command Line and csvkit\n",
    "\n",
    "El Museo de Arte Moderno es uno de los museos más influyentes en el mundo y han publicado un conjunto de datasets sobre las obras de arte en su colección. Los datasets, como TODOS los que nos encontremos en nuestra vida diaria (en el poco tiempo que tengo como Data Scientist no he visto el primer dataset que no tenga que limpiar) requieren de tratamiento y limpieza.\n",
    "\n",
    "En este artículo, aprenderemos cómo usar la biblioteca csvkit para adquirir y explorar datos tabulares.\n",
    "\n",
    "¿Por qué la línea de comandos?\n",
    "Gran pregunta! Antes de empezar en esto, me la había hecho millones de veces y la respuesta es que cuando se trabaja en entornos de Data Science en la nube (cloud), a veces sólo se tiene acceso a la shell de un servidor. En estas situaciones, el dominio de la línea de comandos es una verdadera ventaja. Igualmente, cuando se trabaja con Big Data y datasets muuuuuuy grandes, es muy eficiente trabajar por esta vía y que nuestra computadora (ordenador) no se guinde!\n",
    "\n",
    "A medida que nos volvemos más eficientes, el uso de la línea de comandos para algunas tareas de data science es mucho más rápida que escribir un script de Python o un job de Hadoop. \n",
    "\n",
    "Por último, la línea de comandos tiene un gran ecosistema de herramientas. Esto hace que ciertos tipos de tareas, especialmente aquellas que involucren múltiples archivos, sean increíblemente fáciles.\n"
   ]
  },
  {
   "cell_type": "markdown",
   "metadata": {},
   "source": [
    "## Csvkit\n",
    "Csvkit es una biblioteca optimizada para trabajar con archivos CSV. Está escrito en Python, pero la interfaz principal es la línea de comandos. Puede instalar csvkit utilizando pip:\n",
    "\n",
    "(Nota: para trabajar desde Jupyter Notebook con la línea de comando, debemos preceder nuestras peticiones con el simbolo \"!\". Esto le indica al notebook que el comando que se ejecuta es de la command line)"
   ]
  },
  {
   "cell_type": "code",
   "execution_count": null,
   "metadata": {
    "collapsed": false
   },
   "outputs": [],
   "source": [
    "! pip install csvkit"
   ]
  },
  {
   "cell_type": "markdown",
   "metadata": {},
   "source": [
    "Vas a necesitar la librería para poder seguir con el tutorial."
   ]
  },
  {
   "cell_type": "markdown",
   "metadata": {},
   "source": [
    "## Data acquisition\n",
    "\n",
    "El dataset de las obras de arte del MOMA está disponible en el repo del GitHub del museo. Usemos el comando curl para descargar el fichero Artworks.csv desde Github. \n",
    "\n",
    "curl es una herramienta que está dentro de la mayoría de los ambientes shell y que permite la trasferencia de data entre servidores. \n",
    "\n",
    "El dataset lo podemos conseguir en el Github del museo (https://github.com/MuseumofModernArt/collection). Debemos verificar que tenemos el link en Raw data. Finalmente usamos el operador > para redireccionar la salida de nuestro comando curl a un fichero llamado artworks.csv."
   ]
  },
  {
   "cell_type": "code",
   "execution_count": 2,
   "metadata": {
    "collapsed": false
   },
   "outputs": [
    {
     "name": "stdout",
     "output_type": "stream",
     "text": [
      "  % Total    % Received % Xferd  Average Speed   Time    Time     Time  Current\n",
      "                                 Dload  Upload   Total   Spent    Left  Speed\n",
      "100 49.4M  100 49.4M    0     0  3629k      0  0:00:13  0:00:13 --:--:-- 3903k\n"
     ]
    }
   ],
   "source": [
    "! curl https://media.githubusercontent.com/media/MuseumofModernArt/collection/master/Artworks.csv > artworks.csv"
   ]
  },
  {
   "cell_type": "markdown",
   "metadata": {},
   "source": [
    "Verificamos que efectivamente se descargó el fichero que queremos."
   ]
  },
  {
   "cell_type": "code",
   "execution_count": 1,
   "metadata": {
    "collapsed": false
   },
   "outputs": [
    {
     "name": "stdout",
     "output_type": "stream",
     "text": [
      "\u001b[1m\u001b[36m.\u001b[m\u001b[m                             artworks.csv\r\n",
      "\u001b[1m\u001b[36m..\u001b[m\u001b[m                            command_line_tutorial.ipynb\r\n",
      ".DS_Store                     \u001b[31mign.csv\u001b[m\u001b[m\r\n",
      "\u001b[1m\u001b[36m.git\u001b[m\u001b[m                          ign.csv.zip\r\n",
      "\u001b[1m\u001b[36m.ipynb_checkpoints\u001b[m\u001b[m            test.csv\r\n",
      "README.md                     train.csv\r\n",
      "Sample_Submission_Tm9Lura.csv wine.csv\r\n",
      "abalone.csv                   wine_quality.ipynb\r\n",
      "abaloneNames.txt              winequality-red.csv\r\n"
     ]
    }
   ],
   "source": [
    "! ls -a"
   ]
  },
  {
   "cell_type": "markdown",
   "metadata": {},
   "source": [
    "## Data exploration\n",
    "\n",
    "Podemos usar el comando head para mostrar las primeras n líneas de un fichero (10 por defecto). Para mostrar las primeras 3, cualquiera de estos comandos funcionaran:"
   ]
  },
  {
   "cell_type": "code",
   "execution_count": 7,
   "metadata": {
    "collapsed": false
   },
   "outputs": [
    {
     "name": "stdout",
     "output_type": "stream",
     "text": [
      "﻿Title,Artist,ConstituentID,ArtistBio,Nationality,BeginDate,EndDate,Gender,Date,Medium,Dimensions,CreditLine,AccessionNumber,Classification,Department,DateAcquired,Cataloged,ObjectID,URL,ThumbnailURL,Circumference (cm),Depth (cm),Diameter (cm),Height (cm),Length (cm),Weight (kg),Width (cm),Seat Height (cm),Duration (sec.)\r\n",
      "\"Ferdinandsbrücke Project, Vienna, Austria, Elevation, preliminary version\",Otto Wagner,6210,\"(Austrian, 1841–1918)\",(Austrian),(1841),(1918),(Male),1896,Ink and cut-and-pasted painted pages on paper,\"19 1/8 x 66 1/2\"\" (48.6 x 168.9 cm)\",Fractional and promised gift of Jo Carole and Ronald S. Lauder,885.1996,Architecture,Architecture & Design,1996-04-09,Y,2,http://www.moma.org/collection/works/2,http://www.moma.org/media/W1siZiIsIjU5NDA1Il0sWyJwIiwiY29udmVydCIsIi1yZXNpemUgMzAweDMwMFx1MDAzZSJdXQ.jpg?sha=137b8455b1ec6167,,,,,,,,,\r\n",
      "\"City of Music, National Superior Conservatory of Music and Dance, Paris, France, View from interior courtyard\",Christian de Portzamparc,7470,\"(French, born 1944)\",(French),(1944),(0),(Male),1987,Paint and colored pencil on print,\"16 x 11 3/4\"\" (40.6 x 29.8 cm)\",Gift of the architect in honor of Lily Auchincloss,1.1995,Architecture,Architecture & Design,1995-01-17,Y,3,http://www.moma.org/collection/works/3,http://www.moma.org/media/W1siZiIsIjk3Il0sWyJwIiwiY29udmVydCIsIi1yZXNpemUgMzAweDMwMFx1MDAzZSJdXQ.jpg?sha=55b65fa4368fe00a,,,,,,,,,\r\n"
     ]
    }
   ],
   "source": [
    "! head -n 3 artworks.csv\n",
    "#Para ver las últimas 3 líneas, utilizaríamos el comando tail: ! tail -n 3 artworks.csv"
   ]
  },
  {
   "cell_type": "code",
   "execution_count": 4,
   "metadata": {
    "collapsed": false
   },
   "outputs": [
    {
     "name": "stdout",
     "output_type": "stream",
     "text": [
      "﻿Title,Artist,ConstituentID,ArtistBio,Nationality,BeginDate,EndDate,Gender,Date,Medium,Dimensions,CreditLine,AccessionNumber,Classification,Department,DateAcquired,Cataloged,ObjectID,URL,ThumbnailURL,Circumference (cm),Depth (cm),Diameter (cm),Height (cm),Length (cm),Weight (kg),Width (cm),Seat Height (cm),Duration (sec.)\r\n",
      "\"Ferdinandsbrücke Project, Vienna, Austria, Elevation, preliminary version\",Otto Wagner,6210,\"(Austrian, 1841–1918)\",(Austrian),(1841),(1918),(Male),1896,Ink and cut-and-pasted painted pages on paper,\"19 1/8 x 66 1/2\"\" (48.6 x 168.9 cm)\",Fractional and promised gift of Jo Carole and Ronald S. Lauder,885.1996,Architecture,Architecture & Design,1996-04-09,Y,2,http://www.moma.org/collection/works/2,http://www.moma.org/media/W1siZiIsIjU5NDA1Il0sWyJwIiwiY29udmVydCIsIi1yZXNpemUgMzAweDMwMFx1MDAzZSJdXQ.jpg?sha=137b8455b1ec6167,,,,,,,,,\r\n",
      "\"City of Music, National Superior Conservatory of Music and Dance, Paris, France, View from interior courtyard\",Christian de Portzamparc,7470,\"(French, born 1944)\",(French),(1944),(0),(Male),1987,Paint and colored pencil on print,\"16 x 11 3/4\"\" (40.6 x 29.8 cm)\",Gift of the architect in honor of Lily Auchincloss,1.1995,Architecture,Architecture & Design,1995-01-17,Y,3,http://www.moma.org/collection/works/3,http://www.moma.org/media/W1siZiIsIjk3Il0sWyJwIiwiY29udmVydCIsIi1yZXNpemUgMzAweDMwMFx1MDAzZSJdXQ.jpg?sha=55b65fa4368fe00a,,,,,,,,,\r\n"
     ]
    }
   ],
   "source": [
    "! head -3 artworks.csv"
   ]
  },
  {
   "cell_type": "markdown",
   "metadata": {},
   "source": [
    "Como la mayoría de los datasets con los que habitualmente se trabaja, podemos ver que la primera fila es el header o cabecera. Este nos indica el nombre de las columnas. \n",
    "\n",
    "Aparte de eso, la salida es desordenada y es difícil ver o detallar alguna información adicional. Necesitamos una herramienta que sepa cómo mostrar archivos CSV de una manera legible."
   ]
  },
  {
   "cell_type": "markdown",
   "metadata": {},
   "source": [
    "## csvlook\n",
    "\n",
    "Csvlook es una herramienta dentro de csvkit que nos permite mostrar y previsualizar un archivo CSV como una tabla. \n",
    "Si escribimos Csvlook artworks.csv mostrará todo el dataset, lo cual no tiene mucho sentido porque nos mostrará TODO, en estos casos siempre es ideal trabajar con pocas filas, que ya nos permite tener una idea del resto del dataset. \n",
    "Podemos hacer esto de la siguiente forma: "
   ]
  },
  {
   "cell_type": "code",
   "execution_count": 9,
   "metadata": {
    "collapsed": false
   },
   "outputs": [
    {
     "name": "stdout",
     "output_type": "stream",
     "text": [
      "| ﻿Title                                                                                                        | Artist                   | ConstituentID | ArtistBio                                 | Nationality | BeginDate | EndDate | Gender |  Date | Medium                                                         | Dimensions | CreditLine                                                              | AccessionNumber | Classification | Department            | DateAcquired | Cataloged | ObjectID | URL                                    | ThumbnailURL                                                                                                                  | Circumference (cm) | Depth (cm) | Diameter (cm) | Height (cm) | Length (cm) | Weight (kg) | Width (cm) | Seat Height (cm) | Duration (sec.) |\r\n",
      "| ------------------------------------------------------------------------------------------------------------- | ------------------------ | ------------- | ----------------------------------------- | ----------- | --------- | ------- | ------ | ----- | -------------------------------------------------------------- | ---------- | ----------------------------------------------------------------------- | --------------- | -------------- | --------------------- | ------------ | --------- | -------- | -------------------------------------- | ----------------------------------------------------------------------------------------------------------------------------- | ------------------ | ---------- | ------------- | ----------- | ----------- | ----------- | ---------- | ---------------- | --------------- |\r\n",
      "| Ferdinandsbrücke Project, Vienna, Austria, Elevation, preliminary version                                     | Otto Wagner              |         6.210 | (Austrian, 1841–1918)                     | (Austrian)  | (1841)    | (1918)  | (Male) | 1.896 | Ink and cut-and-pasted painted pages on paper                  | 2048-06-02 | Fractional and promised gift of Jo Carole and Ronald S. Lauder          |        885,200… | Architecture   | Architecture & Design |   1996-04-09 |      True |        2 | http://www.moma.org/collection/works/2 | http://www.moma.org/media/W1siZiIsIjU5NDA1Il0sWyJwIiwiY29udmVydCIsIi1yZXNpemUgMzAweDMwMFx1MDAzZSJdXQ.jpg?sha=137b8455b1ec6167 |                    |            |               |             |             |             |            |                  |                 |\r\n",
      "| City of Music, National Superior Conservatory of Music and Dance, Paris, France, View from interior courtyard | Christian de Portzamparc |         7.470 | (French, born 1944)                       | (French)    | (1944)    | (0)     | (Male) | 1.987 | Paint and colored pencil on print                              | 2017-01-24 | Gift of the architect in honor of Lily Auchincloss                      |          1,200… | Architecture   | Architecture & Design |   1995-01-17 |      True |        3 | http://www.moma.org/collection/works/3 | http://www.moma.org/media/W1siZiIsIjk3Il0sWyJwIiwiY29udmVydCIsIi1yZXNpemUgMzAweDMwMFx1MDAzZSJdXQ.jpg?sha=55b65fa4368fe00a     |                    |            |               |             |             |             |            |                  |                 |\r\n",
      "| Villa near Vienna Project, Outside Vienna, Austria, Elevation                                                 | Emil Hoppe               |         7.605 | (Austrian, 1876–1957)                     | (Austrian)  | (1876)    | (1957)  | (Male) | 1.903 | Graphite, pen, color pencil, ink, and gouache on tracing paper | 2017-01-24 | Gift of Jo Carole and Ronald S. Lauder                                  |          1,200… | Architecture   | Architecture & Design |   1997-01-15 |      True |        4 | http://www.moma.org/collection/works/4 | http://www.moma.org/media/W1siZiIsIjk4Il0sWyJwIiwiY29udmVydCIsIi1yZXNpemUgMzAweDMwMFx1MDAzZSJdXQ.jpg?sha=fdcfca4db3acac1f     |                    |            |               |             |             |             |            |                  |                 |\r\n",
      "| The Manhattan Transcripts Project, New York, New York, Introductory panel to Episode 1: The Park              | Bernard Tschumi          |         7.056 | (French and Swiss, born Switzerland 1944) | ()          | (1944)    | (0)     | (Male) | 1.980 | Photographic reproduction with colored synthetic laminate      | 1950-08-01 | Purchase and partial gift of the architect in honor of Lily Auchincloss |          2,200… | Architecture   | Architecture & Design |   1995-01-17 |      True |        5 | http://www.moma.org/collection/works/5 | http://www.moma.org/media/W1siZiIsIjEyNCJdLFsicCIsImNvbnZlcnQiLCItcmVzaXplIDMwMHgzMDBcdTAwM2UiXV0.jpg?sha=c89b9071486760a5    |                    |            |               |             |             |             |            |                  |                 |\r\n"
     ]
    }
   ],
   "source": [
    "! head -5 artworks.csv | csvlook"
   ]
  },
  {
   "cell_type": "markdown",
   "metadata": {},
   "source": [
    "## csvcut\n",
    "En datasets con campos muy grandes o que tienen mucha información, lo anterior sigue siendo nada atractivo. Debemos buscar una forma de poder ver estos datos y entenderlos ya que sigue siendo dificil hacer una exploración allí. \n",
    "\n",
    "Veamos como podemos utilizar csvcut para seleccionar sólo algunas columnas de interés y mostrarlas. csvcut es una herramienta dentro del ToolKit que permite cortar y modificar las columnas en el CSV. Primero vamos a enumerar todas las columnas usando el indicador -n:"
   ]
  },
  {
   "cell_type": "code",
   "execution_count": 12,
   "metadata": {
    "collapsed": false
   },
   "outputs": [
    {
     "name": "stdout",
     "output_type": "stream",
     "text": [
      "  1: ﻿Title\r\n",
      "  2: Artist\r\n",
      "  3: ConstituentID\r\n",
      "  4: ArtistBio\r\n",
      "  5: Nationality\r\n",
      "  6: BeginDate\r\n",
      "  7: EndDate\r\n",
      "  8: Gender\r\n",
      "  9: Date\r\n",
      " 10: Medium\r\n",
      " 11: Dimensions\r\n",
      " 12: CreditLine\r\n",
      " 13: AccessionNumber\r\n",
      " 14: Classification\r\n",
      " 15: Department\r\n",
      " 16: DateAcquired\r\n",
      " 17: Cataloged\r\n",
      " 18: ObjectID\r\n",
      " 19: URL\r\n",
      " 20: ThumbnailURL\r\n",
      " 21: Circumference (cm)\r\n",
      " 22: Depth (cm)\r\n",
      " 23: Diameter (cm)\r\n",
      " 24: Height (cm)\r\n",
      " 25: Length (cm)\r\n",
      " 26: Weight (kg)\r\n",
      " 27: Width (cm)\r\n",
      " 28: Seat Height (cm)\r\n",
      " 29: Duration (sec.)\r\n"
     ]
    }
   ],
   "source": [
    "! csvcut -n artworks.csv "
   ]
  },
  {
   "cell_type": "markdown",
   "metadata": {},
   "source": [
    "Podemos usar el flag -c para especificar la o las columnas que queremos."
   ]
  },
  {
   "cell_type": "markdown",
   "metadata": {},
   "source": [
    "Todas las utilidades de csvkit aceptan un archivo de entrada como \"standar in\", además de un nombre de archivo. Esto significa que podemos hacer que la salida de una utilidad csvkit se convierta en la entrada de la siguiente.\n",
    "\n",
    "Esto significa que podemos canalizar el stdout de csvcut a la stdin de csvlook! Podemos construir la siguiente tubería:\n",
    "\n",
    "Extraer sólo las primeras 10 líneas usando head\n",
    "Filtrar sólo las primeras 3 columnas utilizando csvcut\n",
    "Mostrar de una manera limpia utilizando csvlook\n"
   ]
  },
  {
   "cell_type": "code",
   "execution_count": 5,
   "metadata": {
    "collapsed": false
   },
   "outputs": [
    {
     "name": "stdout",
     "output_type": "stream",
     "text": [
      "| Gender | Date    | Medium                                                         |\n",
      "| ------ | ------- | -------------------------------------------------------------- |\n",
      "| (Male) | 1896    | Ink and cut-and-pasted painted pages on paper                  |\n",
      "| (Male) | 1987    | Paint and colored pencil on print                              |\n",
      "| (Male) | 1903    | Graphite, pen, color pencil, ink, and gouache on tracing paper |\n",
      "| (Male) | 1980    | Photographic reproduction with colored synthetic laminate      |\n",
      "| (Male) | 1903    | Graphite, color pencil, ink, and gouache on tracing paper      |\n",
      "| (Male) | 1976-77 | Gelatin silver photograph                                      |\n",
      "| (Male) | 1976-77 | Gelatin silver photographs                                     |\n",
      "| (Male) | 1976-77 | Gelatin silver photograph                                      |\n",
      "| (Male) | 1976-77 | Gelatin silver photograph                                      |\n"
     ]
    }
   ],
   "source": [
    "! head -10 artworks.csv | csvcut -c Gender,Date,Medium | csvlook\n",
    "#! head -10 artworks.csv | csvcut -c 8,9,10 | csvlook\n",
    "#This last command show us the same as the other."
   ]
  },
  {
   "cell_type": "markdown",
   "metadata": {},
   "source": [
    "## csvgrep\n",
    "\n",
    "Cuando se trabaja con conjuntos de datos históricos, o en general con data que contiene fechas, debemos asegurarnos de que las columnas (de fecha y hora) estén correctamente formateadas. Exploremos las columnas Date y DateAcquired:\n"
   ]
  },
  {
   "cell_type": "code",
   "execution_count": 17,
   "metadata": {
    "collapsed": false
   },
   "outputs": [
    {
     "name": "stdout",
     "output_type": "stream",
     "text": [
      "| Date    | DateAcquired |\r\n",
      "| ------- | ------------ |\r\n",
      "| 1896    |   1996-04-09 |\r\n",
      "| 1987    |   1995-01-17 |\r\n",
      "| 1903    |   1997-01-15 |\r\n",
      "| 1980    |   1995-01-17 |\r\n",
      "| 1903    |   1997-01-15 |\r\n",
      "| 1976-77 |   1995-01-17 |\r\n",
      "| 1976-77 |   1995-01-17 |\r\n",
      "| 1976-77 |   1995-01-17 |\r\n",
      "| 1976-77 |   1995-01-17 |\r\n",
      "| 1976-77 |   1995-01-17 |\r\n",
      "| 1976-77 |   1995-01-17 |\r\n",
      "| 1976-77 |   1995-01-17 |\r\n",
      "| 1976-77 |   1995-01-17 |\r\n",
      "| 1976-77 |   1995-01-17 |\r\n",
      "| 1976-77 |   1995-01-17 |\r\n",
      "| 1976-77 |   1995-01-17 |\r\n",
      "| 1976-77 |   1995-01-17 |\r\n",
      "| 1976-77 |   1995-01-17 |\r\n",
      "| 1976-77 |   1995-01-17 |\r\n"
     ]
    }
   ],
   "source": [
    "! head -20 artworks.csv | csvcut -c Date,DateAcquired | csvlook"
   ]
  },
  {
   "cell_type": "markdown",
   "metadata": {
    "collapsed": true
   },
   "source": [
    "Mientras que los primeros 20 valores en DateAcquired parecen estar correctos, la columna Date tiene algunos valores que no se visualizarán correctamente si los tomamos como un valor tipo fecha (por estar en el formato 1976-77 por ejemplo). \n",
    "\n",
    "Podemos manejar fácilmente esto seleccionando simplemente el primer año en el rango (por ejemplo, 1976 del rango 1976-77). Antes de hacer esto, vamos a averiguar cuántas líneas coinciden con este patrón.\n",
    "\n",
    "Usaremos el comando csvgrep para extraer todos los valores en una columna (o una serie de columnas) que coincidan con esa expresión regular. Especificamos las columnas que queremos que csvgrep empareje al usar el indicador -c. Especificamos la expresión regular que queremos que csvgrep utilice usando el indicador -regex.\n",
    "\n",
    "El regex ^([0-9]*-[0-9]*) coincide con pares de valores numéricos que están separados por un guión (-). Dado que estamos buscando instancias del patrón en la columna Date, escribimos lo siguiente:\n"
   ]
  },
  {
   "cell_type": "code",
   "execution_count": 8,
   "metadata": {
    "collapsed": false
   },
   "outputs": [
    {
     "name": "stdout",
     "output_type": "stream",
     "text": [
      "^C\r\n",
      "\r\n"
     ]
    }
   ],
   "source": [
    "! csvgrep --columns Date --regex \"^([0-9]*-[0-9]*)\""
   ]
  },
  {
   "cell_type": "markdown",
   "metadata": {},
   "source": [
    "Vamos a modificar y ejecutar la tubería que hemos construido para incorporar csvgrep. Con esto voy a seleccionar los valores que cumplan con mi formato deseado (AAAA-MM):"
   ]
  },
  {
   "cell_type": "code",
   "execution_count": 10,
   "metadata": {
    "collapsed": false
   },
   "outputs": [
    {
     "name": "stdout",
     "output_type": "stream",
     "text": [
      "| Date    |\r\n",
      "| ------- |\r\n",
      "| 1976-77 |\r\n",
      "| 1976-77 |\r\n",
      "| 1976-77 |\r\n",
      "| 1976-77 |\r\n"
     ]
    }
   ],
   "source": [
    "! head -10 artworks.csv | csvcut -c Date | csvgrep --c Date --regex \"^([0-9]*-[0-9]*)\" | csvlook"
   ]
  },
  {
   "cell_type": "markdown",
   "metadata": {},
   "source": [
    "## csvstat\n",
    "\n",
    "Ahora vamos a aplicar la expresión regular en toda la columna de fecha (en lugar de sólo las primeras 10 líneas) y determinar cuántas líneas coinciden con este patrón. La herramienta csvstat toma un CSV como entrada (stdin) y calcula las estadísticas de resumen. Podemos usar el indicador --count para especificar que sólo queremos contar la línea. También podemos eliminar csvcut, head y csvlook ya que no necesitamos mostrar la salida.\n"
   ]
  },
  {
   "cell_type": "code",
   "execution_count": 11,
   "metadata": {
    "collapsed": false
   },
   "outputs": [
    {
     "name": "stdout",
     "output_type": "stream",
     "text": [
      "Row count: 18023\r\n"
     ]
    }
   ],
   "source": [
    "! csvgrep --c Date --regex \"^([0-9]*-[0-9]*)\" artworks.csv | csvstat --count"
   ]
  },
  {
   "cell_type": "markdown",
   "metadata": {},
   "source": [
    "Tip: Cuando necesito saber cómo determinar una expresión Regex y su patrón, yo personalmente utilizo: https://regex101.com/"
   ]
  },
  {
   "cell_type": "markdown",
   "metadata": {},
   "source": [
    "Existen 18,023 líneas que coinciden con este patrón. Calculemos ahora:\n",
    "\n",
    "Cuántas lineas coinciden con el patrón de 4 dígitos. \n",
    "Cuántas líneas en total tiene el dataset. \n",
    "Podemos usar la expresión regex (^[0-9]{4}$) para conseguir los valores de year de 4 dígitos y hacer un pipe(tubería) del resultado a csvstat:\n"
   ]
  },
  {
   "cell_type": "code",
   "execution_count": 12,
   "metadata": {
    "collapsed": false
   },
   "outputs": [
    {
     "name": "stdout",
     "output_type": "stream",
     "text": [
      "Row count: 10368\r\n"
     ]
    }
   ],
   "source": [
    "! csvgrep --c Date --regex \"[0-9]{4}$\" artworks.csv | csvstat --count"
   ]
  },
  {
   "cell_type": "markdown",
   "metadata": {},
   "source": [
    "Finalmente, para obtener el número total de líneas del dataset, podemos usar el comando wc con el indicador o flag -l para mostrar sólo el número de líneas:"
   ]
  },
  {
   "cell_type": "markdown",
   "metadata": {},
   "source": [
    "### Comando WC"
   ]
  },
  {
   "cell_type": "code",
   "execution_count": 13,
   "metadata": {
    "collapsed": false
   },
   "outputs": [
    {
     "name": "stdout",
     "output_type": "stream",
     "text": [
      "  143015 artworks.csv\r\n"
     ]
    }
   ],
   "source": [
    "! wc -l artworks.csv"
   ]
  },
  {
   "cell_type": "markdown",
   "metadata": {},
   "source": [
    "Por defecto, wc te mostrará de forma rápida cuántas lineas, palabras y bytes hay en el fichero. Sí sólo quieres ver la cantidad de líneas, haces como en el comando anterior, que usas el flag -l. \n",
    "\n",
    "Este comando es importante ya que te da una idea de la magnitud de tu dataset."
   ]
  },
  {
   "cell_type": "markdown",
   "metadata": {},
   "source": [
    "Si combinamos el número de líneas que coinciden con el regex de año de 4 dígitos (10368) con el número de líneas que coinciden con el intervalo de año regex (18023), obtenemos (28391) líneas. Dado que hay 143.015 líneas en total, ¡este es un gran punto de partida para nuestro análisis!"
   ]
  },
  {
   "cell_type": "markdown",
   "metadata": {},
   "source": [
    "### Otros comando adicionales"
   ]
  },
  {
   "cell_type": "markdown",
   "metadata": {
    "collapsed": true
   },
   "source": [
    "### sort\n",
    "\n",
    "Sort devuelve las líneas de un archivo en orden basándose en una clave de columna utilizando el parámetro -k. Si no se especifica una clave, sort tratará cada línea como una cadena concatenada y ordenará según los valores de la primera columna. Los parámetros -n y -r permiten ordenar numéricamente y en orden inverso, respectivamente."
   ]
  },
  {
   "cell_type": "code",
   "execution_count": 19,
   "metadata": {
    "collapsed": false
   },
   "outputs": [
    {
     "name": "stdout",
     "output_type": "stream",
     "text": [
      "| Gender | Date    | Medium                                                         |\r\n",
      "| ------ | ------- | -------------------------------------------------------------- |\r\n",
      "| (Male) | 1896    | Ink and cut-and-pasted painted pages on paper                  |\r\n",
      "| (Male) | 1987    | Paint and colored pencil on print                              |\r\n",
      "| (Male) | 1903    | Graphite, pen, color pencil, ink, and gouache on tracing paper |\r\n",
      "| (Male) | 1980    | Photographic reproduction with colored synthetic laminate      |\r\n",
      "| (Male) | 1903    | Graphite, color pencil, ink, and gouache on tracing paper      |\r\n",
      "| (Male) | 1976-77 | Gelatin silver photograph                                      |\r\n",
      "| (Male) | 1976-77 | Gelatin silver photographs                                     |\r\n",
      "| (Male) | 1976-77 | Gelatin silver photograph                                      |\r\n",
      "| (Male) | 1976-77 | Gelatin silver photograph                                      |\r\n"
     ]
    }
   ],
   "source": [
    "! head -10 artworks.csv | csvcut -c Gender,Date,Medium | csvlook"
   ]
  },
  {
   "cell_type": "code",
   "execution_count": 39,
   "metadata": {
    "collapsed": false
   },
   "outputs": [
    {
     "name": "stdout",
     "output_type": "stream",
     "text": [
      "| (Male) | 1896    | Ink and cut-and-pasted painted pages on paper                  |\r\n",
      "| (Male) | 1903    | Graphite, color pencil, ink, and gouache on tracing paper      |\r\n",
      "| (Male) | 1903    | Graphite, pen, color pencil, ink, and gouache on tracing paper |\r\n",
      "| (Male) | 1976-77 | Gelatin silver photograph                                      |\r\n",
      "| (Male) | 1976-77 | Gelatin silver photograph                                      |\r\n",
      "| (Male) | 1976-77 | Gelatin silver photograph                                      |\r\n",
      "| (Male) | 1976-77 | Gelatin silver photographs                                     |\r\n",
      "| (Male) | 1980    | Photographic reproduction with colored synthetic laminate      |\r\n",
      "| (Male) | 1987    | Paint and colored pencil on print                              |\r\n",
      "| ------ | ------- | -------------------------------------------------------------- |\r\n",
      "| Gender | Date    | Medium                                                         |\r\n"
     ]
    }
   ],
   "source": [
    "! head -10 artworks.csv | csvcut -c Gender,Date,Medium | csvlook | sort -k 1\n",
    "#el último número, es el número de columna por el cual queremos ordenar."
   ]
  },
  {
   "cell_type": "markdown",
   "metadata": {},
   "source": [
    "### Uniq\n",
    "A veces queremos comprobar registros duplicados en un archivo de texto grande, aquí es cuando uniq es muy útil. Mediante el uso del parámetro -c, uniq emitirá la cuenta de las ocurrencias junto con la línea. También puede utilizar los parámetros -d y -u para generar únicamente registros duplicados o únicos."
   ]
  },
  {
   "cell_type": "code",
   "execution_count": 48,
   "metadata": {
    "collapsed": false
   },
   "outputs": [
    {
     "name": "stdout",
     "output_type": "stream",
     "text": [
      "sort: write failed: standard output: Broken pipe\n",
      "sort: write error\n",
      "Column 'Gender' is invalid. It is neither an integer nor a column name. Column names are: u' 207 '\n",
      "\n"
     ]
    }
   ],
   "source": [
    "! sort artworks.csv | uniq -c | sort -nr | head -10 | csvcut -c Gender,Date,Medium | csvlook\n",
    "\n",
    "\n"
   ]
  },
  {
   "cell_type": "code",
   "execution_count": 41,
   "metadata": {
    "collapsed": false
   },
   "outputs": [
    {
     "name": "stdout",
     "output_type": "stream",
     "text": [
      "\n",
      "\n",
      "\",\"11 3/4 x 8 1/4\"\" (29.8 x 21 cm)\n",
      "\",\"11 x 8 1/2\"\" (27.9 x 21.6 cm)\n",
      "\",\"25 3/4 x 37 1/4\"\" (65.4 x 94.6 cm)\n",
      "\",\"4 5/8 x 3 3/4\"\" (11.7 x 9.5 cm)\n",
      "\",\"7 1/2 x 11 1/8\"\" (19 x 28.3 cm)\n",
      "\",\"Acquired through the generosity of Robert Speyer, the Latin American and Caribbean Fund, Jill Kraus, Beatriz and Andres von Buch, Estrellita Brodsky, Adriana Cisneros de Griffin, Mauro Herlitzka, Marie-Josée Kravis, Raul Naón, Carlos Padula, Gonzalo Parodi, and Ernesto Poma\n",
      "\",\"Dimensions variable\n",
      "\",\"Mies van der Rohe Archive, gift of the architect\n",
      "\",\"Original film elements preserved by The Museum of Modern Art, New York. Gift of The Andy Warhol Foundation for the Visual Arts, Inc.\n",
      "\"860/880 Lake Shore Drive Apartment Building, Chicago, Illinois\",Ludwig Mies van der Rohe,7166,\"(American, born Germany. 1886–1969)\",(American),(1886),(1969),(Male),c. 1948-51,,,\"Mies van der Rohe Archive, gift of the architect\n",
      "\"860/880 Lake Shore Drive Apartment Building, Chicago, Illinois, Floor plan sketch\",Ludwig Mies van der Rohe,7166,\"(American, born Germany. 1886–1969)\",(American),(1886),(1969),(Male),c. 1948-51,Pencil and colored pencil on paper,\"8 1/2 x 11\"\" (21.6 x 27.9 cm)\",\"Mies van der Rohe Archive, gift of the architect\n",
      "\"Actors, Ancient Marriage Costume\",John Thomson,5863,\"(British, 1837–1921)\",(British),(1837),(1921),(Male),1873,Collotype,\"18 9/16 x 13 3/8\"\" (47.2 x 34 cm)\n",
      "\"Adventures of an *, Storyboard\",\"John Hubley, Faith Hubley\",\"33845, 32272\",\"(American, 1914–1977) (American, 1924–2001)\",(American) (American),(1914) (1924),(1977) (2001),(Male) (Female),1957,,\"27 x 5 3/4\n",
      "\"Battery Park Apartment Buildings Project, New York, NY (Site plan sketch)\",Ludwig Mies van der Rohe,7166,\"(American, born Germany. 1886–1969)\",(American),(1886),(1969),(Male),1957,Pencil on paper,\"4 x 5 1/2\"\" (10.2 x 14 cm)\",\"Mies van der Rohe Archive, gift of the architect\n",
      "\"Battery Park Apartment Buildings Project, New York, NY (Site plan sketch)\",Ludwig Mies van der Rohe,7166,\"(American, born Germany. 1886–1969)\",(American),(1886),(1969),(Male),1957,Pencil on paper,\"7 x 8 1/2\"\" (17.8 x 21.6 cm)\",\"Mies van der Rohe Archive, gift of the architect\n",
      "\"Cantor Drive-in Restaurant, Indianapolis, IN\",Ludwig Mies van der Rohe,7166,\"(American, born Germany. 1886–1969)\",(American),(1886),(1969),(Male),c. 1945-50,,,\"Mies van der Rohe Archive, gift of the architect\n",
      "\"Convention Hall Project, Chicago, IL (Aerial perspective sketch)\",Ludwig Mies van der Rohe,7166,\"(American, born Germany. 1886–1969)\",(American),(1886),(1969),(Male),1954,Pencil on paper,\"6 x 8 1/2\"\" (15.2 x 21.6 cm)\",\"Mies van der Rohe Archive, gift of the architect\n",
      "\"Convention Hall Project, Chicago, IL (Exterior elevation sketch)\",Ludwig Mies van der Rohe,7166,\"(American, born Germany. 1886–1969)\",(American),(1886),(1969),(Male),1954,Pencil on paper,\"5 x 8\"\" (12.7 x 20.3 cm)\",\"Mies van der Rohe Archive, gift of the architect\n",
      "\"Convention Hall Project, Chicago, IL (Perspective and elevation sketches, structural steel system)\",Ludwig Mies van der Rohe,7166,\"(American, born Germany. 1886–1969)\",(American),(1886),(1969),(Male),1954,Pencil on paper,\"6 x 8 1/2\"\" (15.2 x 21.6 cm)\",\"Mies van der Rohe Archive, gift of the architect\n",
      "\"Convention Hall Project, Chicago, IL (Perspective sketches)\",Ludwig Mies van der Rohe,7166,\"(American, born Germany. 1886–1969)\",(American),(1886),(1969),(Male),1954,Pencil and colored pencil on paper,\"6 x 8 1/4\"\" (15.2 x 21 cm)\",\"Mies van der Rohe Archive, gift of the architect\n",
      "\"Convention Hall Project, Chicago, IL (Structural detail, section, and perspective sketches)\",Ludwig Mies van der Rohe,7166,\"(American, born Germany. 1886–1969)\",(American),(1886),(1969),(Male),1954,Ink on paper,\"5 x 8\"\" (12.7 x 20.3 cm)\",\"Mies van der Rohe Archive, gift of the architect\n",
      "\"Court House Project, Plan\",Ludwig Mies van der Rohe,7166,\"(American, born Germany. 1886–1969)\",(American),(1886),(1969),(Male),c. 1935,Pencil on tracing paper,\"16 1/2 x 11 3/4\"\" (41.9 x 29.8 cm)\",\"Mies van der Rohe Archive, gift of the architect\n",
      "\"Daylight, Flashlight, Outside Light, Inside Light\",Jan Dibbets,1533,\"(Dutch, born 1941)\",(Dutch),(1941),(0),(Male),1971,Chromogenic color print,\"8 9/16 x 11 3/16\"\" (21.7 x 28.4 cm)\n",
      "\"Duo, Performed by the artist and William Pearson at Kleines Sommerfest: Après John Cage, Galerie Parnass, Wuppertal, West Germany, June 9, 1962\",Benjamin Patterson,4520,\"(American, 1934–2016)\",(American),(1934),(2016),(Male),1962,Gelatin silver print,\"H: 12.9 cm\n",
      "\"Farnsworth House, Plano, Illinois, Plan\",Ludwig Mies van der Rohe,7166,\"(American, born Germany. 1886–1969)\",(American),(1886),(1969),(Male),1951,Ink on illustration board,\"30 x 40\"\" (76.2 x 101.6 cm)\",\"Mies van der Rohe Archive, gift of the architect\n",
      "\"Federal Center, Chicago, Illinois, Site plan\",Ludwig Mies van der Rohe,7166,\"(American, born Germany. 1886–1969)\",(American),(1886),(1969),(Male),1959,Pencil and colored pencil on tracing paper,\"24 1/2 x 36\"\" (62.2 x 91.4 cm)\",\"Mies van der Rohe Archive, gift of the architect\n",
      "\"Four Heads, Types of the Labouring Class\",John Thomson,5863,\"(British, 1837–1921)\",(British),(1837),(1921),(Male),1873,Collotype,\"18 11/16 x 13 9/16\"\" (47.5 x 34.5 cm)\n",
      "\"Fuchs Addition to Perls House, Berlin-Zehlendorf, Germany (Basement plan, two sections. Print of MR26.25)\",Ludwig Mies van der Rohe,7166,\"(American, born Germany. 1886–1969)\",(American),(1886),(1969),(Male),1928,Print,\"13 3/4 x 16 1/2\"\" (34.9 x 41.9 cm)\",\"Mies van der Rohe Archive, gift of the architect\n",
      "\"Fuchs Addition to Perls House, Berlin-Zehlendorf, Germany, Three elevations\",Ludwig Mies van der Rohe,7166,\"(American, born Germany. 1886–1969)\",(American),(1886),(1969),(Male),1928,Pencil on tracing paper,\"19 1/4 x 15 1/4\"\" (48.9 x 38.8 cm)\",\"Mies van der Rohe Archive, gift of the architect\n",
      "\"Gericke House, Project, Berlin-Wannsee (Preliminary perspective sketch)\",Ludwig Mies van der Rohe,7166,\"(American, born Germany. 1886–1969)\",(American),(1886),(1969),(Male),1932,Pencil on paper,\"8 1/4 x 11 3/4\"\" (21 x 29.8 cm)\",\"Mies van der Rohe Archive, gift of the architect\n",
      "\"Gericke House, Project, Berlin-Wannsee, Perspective\",Ludwig Mies van der Rohe,7166,\"(American, born Germany. 1886–1969)\",(American),(1886),(1969),(Male),1932,Pencil on copy paper,\"8 1/4 x 11 3/4\"\" (21 x 29.8 cm)\",\"Mies van der Rohe Archive, gift of the architect\n",
      "\"Golf Club Project, Krefeld, Germany, Exterior perspective\",Ludwig Mies van der Rohe,7166,\"(American, born Germany. 1886–1969)\",(American),(1886),(1969),(Male),1930,Pencil on paper,\"8 1/4 x 11 1/2\"\" (20.9 x 29.2 cm)\",\"Mies van der Rohe Archive, gift of the architect\n",
      "\"Hotel Event, performed at Waldorf Astoria, New York, June 11, 1966\",Hi Red Center,36946,\"(Japanese, active 1963–64)\",(),(1963),(1964),(),1966,\"Gelatin silver print\n",
      "\"Hubbe House Project, Magdeburg, Germany, Floor plan sketch\",Ludwig Mies van der Rohe,7166,\"(American, born Germany. 1886–1969)\",(American),(1886),(1969),(Male),1934-1935,Pencil on paper,\"8 1/4 x 11 3/4\"\" (21 x 29.8 cm)\",\"Mies van der Rohe Archive, gift of the architect\n",
      "\"IIT Library and Administration Building, Chicago, IL (Exterior perspective sketch)\",Ludwig Mies van der Rohe,7166,\"(American, born Germany. 1886–1969)\",(American),(1886),(1969),(Male),1944,Pencil and colored pencil on paper,\"6 x 8 1/2\"\" (15.2 x 21.6 cm)\",\"Mies van der Rohe Archive, gift of the architect\n",
      "\"IIT Library and Administration Building, Chicago, Illinois, Structural detail\",Ludwig Mies van der Rohe,7166,\"(American, born Germany. 1886–1969)\",(American),(1886),(1969),(Male),1944,Pencil on vellum,\"34 x 48\"\" (86.4 x 121.9 cm)\",\"Mies van der Rohe Archive, gift of the architect\n",
      "\"IIT Master Plan, Chicago, Illinois (Exterior perspective)\",Ludwig Mies van der Rohe,7166,\"(American, born Germany. 1886–1969)\",(American),(1886),(1969),(Male),1939–1941,Pencil on tracing paper,\"29 × 41 1/2\"\" (73.7 × 105.4 cm)\",\"Mies van der Rohe Archive, gift of the architect\n",
      "\"IIT Master Plan, Chicago, Illinois\",Ludwig Mies van der Rohe,7166,\"(American, born Germany. 1886–1969)\",(American),(1886),(1969),(Male),c. 1939-40,,,\"Mies van der Rohe Archive, gift of the architect\n",
      "\"IIT Metallurgical and Chemical Engineering Building (Perlstein Hall), Chicago, Illinois, Corner.  Exterior perspective\",Ludwig Mies van der Rohe,7166,\"(American, born Germany. 1886–1969)\",(American),(1886),(1969),(Male),1944,Pencil on paper,\"6 x 8 1/2\"\" (15.2 x 21.6 cm)\",\"Mies van der Rohe Archive, gift of the architect\n",
      "\"IIT Metallurgical and Chemical Engineering Building (Perlstein Hall), Chicago, Illinois, Exterior perspective at roof corner\",Ludwig Mies van der Rohe,7166,\"(American, born Germany. 1886–1969)\",(American),(1886),(1969),(Male),1944,Pencil on note paper,\"6 x 8 1/2\"\" (15.2 x 21.6 cm)\",\"Mies van der Rohe Archive, gift of the architect\n",
      "\"IIT Metallurgical and Chemical Engineering Building (Perlstein Hall), Chicago, Illinois, Exterior perspective\",Ludwig Mies van der Rohe,7166,\"(American, born Germany. 1886–1969)\",(American),(1886),(1969),(Male),1944,Colored pencil on paper,\"6 x 8 1/2\"\" (15.2 x 21.6 cm)\",\"Mies van der Rohe Archive, gift of the architect\n",
      "\"Joseph Cantor House Project, Indianapolis, Indiana, Perspective\",Ludwig Mies van der Rohe,7166,\"(American, born Germany. 1886–1969)\",(American),(1886),(1969),(Male),1946-1947,Ink on note paper,\"6 x 8 1/2\"\" (15.2 x 21.6 cm)\",\"Mies van der Rohe Archive, gift of the architect\n",
      "\"Menhir, Corsica\",Rachel Harrison,7855,\"(American, born 1966)\",(American),(1966),(0),(Female),2007,Pigmented inkjet print,\"16 x 12\"\" (40.6 x 30.5 cm)\n",
      "\"Menhir, Fillotosa\",Rachel Harrison,7855,\"(American, born 1966)\",(American),(1966),(0),(Female),2007,Pigmented inkjet print,\"16 x 12\"\" (40.6 x 30.5 cm)\n",
      "\"Mountain House Project, no intended site known, (possibly Merano, South Tyrol, Italy)\",Ludwig Mies van der Rohe,7166,\"(American, born Germany. 1886–1969)\",(American),(1886),(1969),(Male),c. 1934,,,\"Mies van der Rohe Archive, gift of the architect\n",
      "\"Mörder, Hoffnung der Frauen (Murderer, Hope of Women)\",Oskar Kokoschka,3197,\"(Austrian, 1886–1980)\",(Austrian),(1886),(1980),(Male),\"(1916, drawings executed 1910)\",\"Illustrated book with five line block reproductions after pen and ink drawings, four with gouache additions\n",
      "\"Neue Wache War Memorial Project, Berlin-Mitte, Germany, Interior perspective. Sketch.\",Ludwig Mies van der Rohe,7166,\"(American, born Germany. 1886–1969)\",(American),(1886),(1969),(Male),1930,Pencil on paper,\"8 1/4 x 13\"\" (21 x 33 cm)\",\"Mies van der Rohe Archive, gift of the architect\n",
      "\"Neue Wache War Memorial Project, Berlin-Mitte, Germany, Sketch interior perspective view.\",Ludwig Mies van der Rohe,7166,\"(American, born Germany. 1886–1969)\",(American),(1886),(1969),(Male),1930,Pencil on paper,\"8 1/4 x 13\"\" (21 x 33 cm)\",\"Mies van der Rohe Archive, gift of the architect\n",
      "\"Neue Wache War Memorial, project, Berlin-Mitte, Germany\",Ludwig Mies van der Rohe,7166,\"(American, born Germany. 1886–1969)\",(American),(1886),(1969),(Male),1930,,,\"Mies van der Rohe Archive, gift of the architect\n",
      "\"New Brighton, Merseyside\",Martin Parr,4506,\"(British, born 1952)\",(British),(1952),(0),(Male),1985,Chromogenic color print,\"17 x 21\"\" (43.2 x 53.3 cm)\n",
      "\"New National Gallery, Berlin, Germany (Plan of museum floor)\",Ludwig Mies van der Rohe,7166,\"(American, born Germany. 1886–1969)\",(American),(1886),(1969),(Male),1967,Pencil on acetate,\"32 x 44\"\" (81.3 x 111.8 cm)\",\"Mies van der Rohe Archive, gift of the architect\n",
      "\"Nolde House Project, Berlin-Dahlem, Germany, Elevations\",Ludwig Mies van der Rohe,7166,\"(American, born Germany. 1886–1969)\",(American),(1886),(1969),(Male),1929,Pencil on tracing paper,\"22 1/4 x 28 1/2\"\" (56.5 x 72.4 cm)\",\"Mies van der Rohe Archive, gift of the architect\n",
      "\"Poster for Interiors, The Berlin Studies of Jacob and Wilhelm Grimm\",Rodney Graham,25983,\"(Canadian, born 1949)\",(Canadian),(1949),(0),(Male),1993,Poster,\"Photoetchings: 18 x 20 1/2\"\" (45.7 x 52.1 cm)\n",
      "\"Reichsbank, project, Berlin-Mitte, Germany\",Ludwig Mies van der Rohe,7166,\"(American, born Germany. 1886–1969)\",(American),(1886),(1969),(Male),1933,,,\"Mies van der Rohe Archive, gift of the architect\n",
      "\"Resor House Project, Jackson Hole, Wyoming\",Ludwig Mies van der Rohe,7166,\"(American, born Germany. 1886–1969)\",(American),(1886),(1969),(Male),1937-1938,Pencil and colored pencil on paper,\"8 1/2 x 13\"\" (21.6 x 33 cm)\",\"Mies van der Rohe Archive, gift of the architect\n",
      "\"Resor House Project, Jackson Hole, Wyoming\",Ludwig Mies van der Rohe,7166,\"(American, born Germany. 1886–1969)\",(American),(1886),(1969),(Male),1937-1938,Pencil on paper,\"15 x 24\"\" (38.1 x 61 cm)\",\"Mies van der Rohe Archive, gift of the architect\n",
      "\"Resor House Project, Jackson Hole, Wyoming\",Ludwig Mies van der Rohe,7166,\"(American, born Germany. 1886–1969)\",(American),(1886),(1969),(Male),1937-1938,Pencil on paper,\"8 1/2 x 13\"\" (21.6 x 33 cm)\",\"Mies van der Rohe Archive, gift of the architect\n",
      "\"Resor House Project, Jackson Hole, Wyoming\",Ludwig Mies van der Rohe,7166,\"(American, born Germany. 1886–1969)\",(American),(1886),(1969),(Male),1937-1938,Pencil on tracing paper,\"8 1/2 x 13\"\" (21.6 x 33 cm)\",\"Mies van der Rohe Archive, gift of the architect\n",
      "\"Resor House Project, Jackson Hole, Wyoming, Interior perspective\",Ludwig Mies van der Rohe,7166,\"(American, born Germany. 1886–1969)\",(American),(1886),(1969),(Male),c. 1937-38,Pencil on tracing paper,\"8 1/2 x 13\"\" (21.6 x 33 cm)\",\"Mies van der Rohe Archive, gift of the architect\n",
      "\"Resor House Project, Jackson Hole, Wyoming, Interior perspective\",Ludwig Mies van der Rohe,7166,\"(American, born Germany. 1886–1969)\",(American),(1886),(1969),(Male),c. 1937-38,Pencil on tracing paper,,\"Mies van der Rohe Archive, gift of the architect\n",
      "\"Resor House project, Jackson Hole, Wyoming (Interior perspective sketch)\",Ludwig Mies van der Rohe,7166,\"(American, born Germany. 1886–1969)\",(American),(1886),(1969),(Male),1937-1938,Pencil on tracing paper,\"8 1/2 x 13\"\" (21.6 x 33 cm)\",\"Mies van der Rohe Archive, gift of the architect\n",
      "\"Ron Bacardi y Compania, S.A., Administration Building, project, Santiago, Cuba, Exterior perspective\",Ludwig Mies van der Rohe,7166,\"(American, born Germany. 1886–1969)\",(American),(1886),(1969),(Male),1957,Pencil on paper,\"6 x 8 3/8\"\" (15.2 x 21.3 cm)\",\"Mies van der Rohe Archive, gift of the architect\n",
      "\"Seagram Building, New York City, New York, Plaza sculpture sketch\",Ludwig Mies van der Rohe,7166,\"(American, born Germany. 1886–1969)\",(American),(1886),(1969),(Male),1954-1958,Pencil on note paper,\"6 x 8 1/2\"\" (15.2 x 21.6 cm)\",\"Mies van der Rohe Archive, gift of the architect\n",
      "\"Seagram Building, New York City, New York, Plaza sculpture\",Ludwig Mies van der Rohe,7166,\"(American, born Germany. 1886–1969)\",(American),(1886),(1969),(Male),c. 1954-58,Black ink on note paper,\"6 x 8 1/4\"\" (15.2 x 21 cm)\",\"Mies van der Rohe Archive, gift of the architect\n",
      "\"Seagram Building, New York City, New York, Plaza sculpture\",Ludwig Mies van der Rohe,7166,\"(American, born Germany. 1886–1969)\",(American),(1886),(1969),(Male),c. 1954-58,Pencil on note paper,\"6 x 8 1/2\"\" (15.2 x 21.6 cm)\",\"Mies van der Rohe Archive, gift of the architect\n",
      "\"Then, Mr. Ay-O Got Drunk by the Rainbow\",Ay-O,255,\"(Japanese, born 1931)\",(Japanese),(1931),(0),(Male),1973,\"One from a series of thirty-eight 3M color-in-color magnetic process prints\n",
      "\"Transplantation I, Perspective and plan\",Raimund Abraham,47,\"(American, born Austria. 1933–2010)\",(American),(1933),(2010),(Male),1964,\".a: Pen and ink\n",
      "\"Ulrich Lange House Project, Krefeld, Germany, Perspective sketch\",Ludwig Mies van der Rohe,7166,\"(American, born Germany. 1886–1969)\",(American),(1886),(1969),(Male),1935,Pencil and colored pencil on paper,\"8 1/4 x 11 1/2\"\" (20.9 x 29.2 cm)\",\"Mies van der Rohe Archive, gift of the architect\n",
      "\"Untitled from the series Six Geometric Figures, Superimposed in Pairs\",Sol LeWitt,3528,\"(American, 1928–2007)\",(American),(1928),(2007),(Male),1977,One from a series of fifteen etching and aquatints,\"each composition  5 15/16 x 5 15/16\"\" (15.2 x 15.2 cm)\n",
      "\"Variations for Double-Bass, performed during Kleines Sommerfest: Après John Cage, Galerie Parnass, Wuppertal, West Germany, June 9, 1962\",Benjamin Patterson,4520,\"(American, 1934–2016)\",(American),(1934),(2016),(Male),1962,Gelatin silver print,\"13 x 9\"\" (33 x 22.8 cm)\n",
      "\"Weissenhof Housing Colony Master Plan, \"\"The Dwelling\"\", Stuttgart, Germany\",Ludwig Mies van der Rohe,7166,\"(American, born Germany. 1886–1969)\",(American),(1886),(1969),(Male),1926,,,\"Mies van der Rohe Archive, gift of the architect\n",
      "\"Wolf House, Gubin, Poland (Basement plan [final version])\",Ludwig Mies van der Rohe,7166,\"(American, born Germany. 1886–1969)\",(American),(1886),(1969),(Male),1925-1927,Print,\"16 x 15 1/4\"\" (40.6 x 38.7 cm)\",\"Mies van der Rohe Archive, gift of the architect\n",
      "\"Wolf House, Gubin, Poland (Basement plan [final version])\",Ludwig Mies van der Rohe,7166,\"(American, born Germany. 1886–1969)\",(American),(1886),(1969),(Male),1925-1927,Print,\"17 x 18 3/4\"\" (43.2 x 47.6 cm)\",\"Mies van der Rohe Archive, gift of the architect\n",
      "\"Wolf House, Gubin, Poland (Plan. Second floor children's study room.)\",Ludwig Mies van der Rohe,7166,\"(American, born Germany. 1886–1969)\",(American),(1886),(1969),(Male),1925-1927,Print,\"15 x 15 1/4\"\" (38.1 x 38.7 cm)\",\"Mies van der Rohe Archive, gift of the architect\n",
      ".1b: 1 1/8 x 7/8\"\" (2.8 x 2.2 cm)\n",
      ".2 (envelope): 4 1/8 x 9 1/2\"\" (10.5 x 24.1 cm)\n",
      ".2 (water glass): 7 x 3 1/2\"\" (17.8 x 8.9 cm)\n",
      ".2: 4 15/16 x 5 1/2 x 1/4\"\" (12.5 x 14 x 0.7 cm)\",\"Gift of Donald Young Gallery\n",
      ".2: Compact disc for use on computer\",\".1 book: 6 3/8 x 4 1/2 x 1/4\"\" (16.2 x 11.4 x 0.6 cm)\n",
      ".2a: 4\"\" (10.2 cm)\n",
      ".3 (teaspoon): l. 6\"\" (15.2 cm)\n",
      ".a (brush): 16 x 4 1/2\"\" (40.6 x 11.4 cm)\n",
      ".a (brush): h. 16\"\" (40.6 cm), diam. 4 1/2\"\" (11.4  cm)\n",
      ".a (holder): h. 2 3/16\"\" (5.5 cm), diam. 2 3/16\"\" (5.5 cm)\n",
      ".b (spoon): 7 1/4 x 1 1/2 x 1 1/2\"\" (18.4  x 3.8 x 3.8 cm)\n",
      ".c (grater): 4 7/8 x 2 3/4 x 1/2\"\"  (12.4 x 7 x 1.2 cm)\n",
      "0-135,Jan Dibbets,1533,\"(Dutch, born 1941)\",(Dutch),(1941),(0),(Male),1971,Gelatin silver print,\"8 9/16 x 11 3/16\"\" (21.7 x 28.4 cm)\n",
      "12 3/16 x 12 3/16\"\" (31 x 31 cm)\n",
      "2. Pencil on paper\n",
      "30 Dnei,\"Georgii Stenberg, Vladimir Stenberg\",\"6965, 5642\",\"(Russian, 1900–1933) (Russian, 1899–1982)\",(Russian) (Russian),(1900) (1899),(1933) (1982),(Male) (Male),1929-1931,\"A (no. 1): Cover with letterpress photomontage illustration on front; letterpress photographic illustrations by Aleksandr Rodchenko, Sergei Tret'iakov, and others, and letterpress illustrations by V. Kozlinskii, A. Breia, A. Radakova, and Evg. Mandel'berg.\",\"Page (A): 10 3/8 x 6 15/16\"\" (26.4 x 17.6 cm)\n",
      "40 dessins de Picasso en marge du Buffon,Pablo Picasso,4609,\"(Spanish, 1881–1973)\",(Spanish),(1881),(1973),(Male),\"(Paris), Berggruen, 1957.  (Print executed 1954-1957).\",Illustrated book with collotype reproductions of drawings and one supplementary linoleum cut,\"sl. irreg. composition  6 5/16 x 7 15/16\"\" (16 x 20.2 cm)\n",
      "A Bride and Bridegroom,John Thomson,5863,\"(British, 1837–1921)\",(British),(1837),(1921),(Male),1873,Collotype,\"18 11/16 x 13 9/16\"\" (47.5 x 34.5 cm)\n",
      "A Cantonese Gentleman,John Thomson,5863,\"(British, 1837–1921)\",(British),(1837),(1921),(Male),1873,Collotype,\"18 11/16 x 13 9/16\"\" (47.5 x 34.5 cm)\n",
      "Abstract Amorphous,Harry Callahan,924,\"(American, 1912–1999)\",(American),(1912),(1999),(Male),c. 1943,Gelatin silver print,\"2 7/8 x 4 1/4\"\" (7.3 x 10.8 cm)\n",
      "After Rodchenko 1-12,Sherrie Levine,3515,\"(American, born 1947)\",(American),(1947),(0),(Female),1987,Gelatin silver print,\"9 1/2 x 7 1/8\"\" (24.1 x 18.1 cm)\n",
      "Alberto Greco in Piedralaves,Alberto Greco,49530,\"(Argentine, 1931–1965)\",(Argentine),(1931),(1965),(Male),1963–2003,Gelatin silver print,\"Sheet: 11 13/16 × 9 5/16\"\" (30 × 23.7 cm)\n",
      "Alberto Greco in Piedralaves,Alberto Greco,49530,\"(Argentine, 1931–1965)\",(Argentine),(1931),(1965),(Male),1963–2003,Gelatin silver print,\"Sheet: 9 5/16 × 11 13/16\"\" (23.7 × 30 cm)\n",
      "Analogue,Zoe Leonard,34219,\"(American, born 1961)\",(American),(1961),(0),(Female),1998-2009,10 chromogenic color prints and 2 gelatin silver prints,\"Each 11 x 11\"\" (27.9 x 27.9 cm)\",\"Analogue was made possible through the Artist's Residency program at the Wexner Center for the Arts at The Ohio State University. \n",
      "Analogue,Zoe Leonard,34219,\"(American, born 1961)\",(American),(1961),(0),(Female),1998-2009,12 chromogenic color prints,\"Each 11 x 11\"\" (27.9 x 27.9 cm)\",\"Analogue was made possible through the Artist's Residency program at the Wexner Center for the Arts at The Ohio State University. \n",
      "Analogue,Zoe Leonard,34219,\"(American, born 1961)\",(American),(1961),(0),(Female),1998-2009,3 chromogenic color prints and 1 gelatin silver print,\"Each 11 x 11\"\" (27.9 x 27.9 cm)\",\"Analogue was made possible through the Artist's Residency program at the Wexner Center for the Arts at The Ohio State University. \n",
      "Analogue,Zoe Leonard,34219,\"(American, born 1961)\",(American),(1961),(0),(Female),1998-2009,4 chromogenic color prints,\"Each 11 x 11\"\" (27.9 x 27.9 cm)\",\"Analogue was made possible through the Artist's Residency program at the Wexner Center for the Arts at The Ohio State University. \n",
      "Ancient Costumes,John Thomson,5863,\"(British, 1837–1921)\",(British),(1837),(1921),(Male),1873,Collotype,\"18 9/16 x 13 3/8\"\" (47.2 x 34 cm)\n",
      "Architecture Panoramas,Jan Dibbets,1533,\"(Dutch, born 1941)\",(Dutch),(1941),(0),(Male),1971,Chromogenic color print,\"8 9/16 x 11 3/16\"\" (21.7 x 28.4 cm)\n",
      "Architecture Panoramas,Jan Dibbets,1533,\"(Dutch, born 1941)\",(Dutch),(1941),(0),(Male),1971,Gelatin silver print,\"8 9/16 x 11 3/16\"\" (21.7 x 28.4 cm)\n",
      "Bust of a Girl from Réincarnations du Père Ubu,Georges Rouault,5053,\"(French, 1871–1958)\",(French),(1871),(1958),(Male),(1932),\"Etching and aquatint with roulette\n",
      "COLOR CHARTS: 6 ARRANGEMENTS OF 1260 COLORS (Farbfelder: 6 Anordnungen von 1260 Farben),Gerhard Richter,4907,\"(German, born 1932)\",(German),(1932),(0),(Male),1974,Portfolio of six photolithographs,\"sl. irreg. composition  24 5/8 x 30 1/2\"\" (62.6 x 77.5 cm)\n",
      "California,Richard Benson,17816,\"(American, born 1943)\",(American),(1943),(0),(Male),2008,Pigmented inkjet print,\"11 5/8 x 17 3/8\"\" (29.5 x 44.1 cm)\n",
      "Caracas: Growing House,Marjetica Potrc,28766,\"(Slovenian, born 1953)\",(Slovenian),(1953),(0),(Female),2003,\"Felt-tip pen on paper\n",
      "Coiffure of Swatow Woman,John Thomson,5863,\"(British, 1837–1921)\",(British),(1837),(1921),(Male),1873,Collotype,\"18 9/16 x 13 3/8\"\" (47.2 x 34 cm)\n",
      "Color Studies,Jan Dibbets,1533,\"(Dutch, born 1941)\",(Dutch),(1941),(0),(Male),1973,Chromogenic color print,\"8 9/16 x 11 3/16\"\" (21.7 x 28.4 cm)\n",
      "Color print looped\n",
      "Composition (The Cow),Theo van Doesburg (Christian Emil Marie Küpper),6076,\"(Dutch, 1883–1931)\",(Dutch),(1883),(1931),(Male),(c. 1917),Pencil on paper,\"4 5/8 x 6 1/4\"\" (11.7 x 15.9 cm)\n",
      "Cremaster Field Suite,Matthew Barney,7005,\"(American, born 1967)\",(American),(1967),(0),(Male),2002,One from a suite of five etchings,\"Composition: 5 7/8 x 6\"\" (15 x 15.3 cm)\n",
      "Cycle of Civilization. The Mythology of the Civilizing Processes,VALIE EXPORT,7816,\"(Austrian, born 1940)\",(Austrian),(1940),(0),(Female),1972,Gelatin silver print,\"15 9/16 x 19 9/16\"\" (39.5 x 49.7 cm)\n",
      "Cycle of Civilization. The Mythology of the Civilizing Processes,VALIE EXPORT,7816,\"(Austrian, born 1940)\",(Austrian),(1940),(0),(Female),1972,Gelatin silver print,\"19 9/16 x 15 9/16\"\" (49.7 x 39.5 cm)\n",
      "Direction, drawing, and photography: William Kentridge\n",
      "Dr. Kiss Toothbrush,Philippe Starck,8418,\"(French, born 1949)\",(French),(1949),(0),(Male),1996,Thermoplastic resin and ABS polymer,\".a (toothbrush): 8 1/8 x 1 1/2 x 1 1/8\"\" (20.6 x  3.8 x 2.8 cm)\n",
      "Drama Projections (Stuttgart),Cristóbal Lehyt,42851,\"(Chilean, born 1973)\",(Chilean),(1973),(0),(Male),2008,Pencil and ink on transparentized paper,\"17 1/2 x 13 1/2\"\" (44.5 x 34.3 cm) smallest\n",
      "EX LIBRIS LOUIS E. STERN,Marc Chagall,1055,\"(French, born Belarus. 1887–1985)\",(French),(1887),(1985),(Male),(Print executed 1943; unpublished),\"Etching and aquatint, printed in black\",\"plate  4 x 3 1/16\"\" (10.2 x 7.8 cm)\n",
      "Editing: Catherine Meyburgh\n",
      "Eindrücke aus Afrika (Impressions from Africa),Markus Raetz,4787,\"(Swiss, born 1941)\",(Swiss),(1941),(0),(Male),1980,Etching,\"Sheet: 11 3/4 x 8 3/16\"\" (29.8 x 20.8 cm)\n",
      "Eindrücke aus Afrika (Impressions from Africa),Markus Raetz,4787,\"(Swiss, born 1941)\",(Swiss),(1941),(0),(Male),1980,Etching,\"Sheet: 11 9/16 x 8 1/8\"\" (29.4 x 20.7 cm)\n",
      "Evaporating Dish,\"Coors Porcelain Co., Golden, CO\",9339,\"(American, est. 1910)\",(American),(1910),(0),(),1920s,Porcelain,\"1 3/8 x 5 1/8 x 4 3/4\"\" (3.5 x 13 x 12.1 cm)\n",
      "Excalibur Toilet Brush,Philippe Starck,8418,\"(French, born 1949)\",(French),(1949),(0),(Male),1993,Polypropylene and nylon,\"Overall: h. 16 1/2\"\" (41.9 cm), diam. 4 3/4\"\" (12 cm)\n",
      "Eye Candy from the Sensory Plasticity project (Models),\"Eyal Burstein, Michele Gauler, Beta Tank\",\"33000, 33001, 33002\",\"(Israeli, born 1977) (German, born 1973) (UK, est. 2007)\",(Israeli) (German) (British),(1977) (1973) (2007),(0) (0) (0),(Male) (Female) (),2007,\"Copper, steel, polyurethane, and sugar\",\"1 1/4 x 1/2\"\" (3.2 x 1.3 cm)\",\"Gift of the Speyer Family Foundation\n",
      "Feltri Chair,Gaetano Pesce,4570,\"(Italian, born 1939)\",(Italian),(1939),(0),(Male),1986,\"Wool felt and polyester resin\n",
      "Fifty by Fifty Feet House Project (Floor plan sketch),Ludwig Mies van der Rohe,7166,\"(American, born Germany. 1886–1969)\",(American),(1886),(1969),(Male),c. 1950-52,Pencil on paper,\"6 x 8 1/2\"\" (15.2 x 21.6 cm)\",\"Mies van der Rohe Archive, gift of the architect\n",
      "Fifty by Fifty Feet House Project (Floor plan sketches),Ludwig Mies van der Rohe,7166,\"(American, born Germany. 1886–1969)\",(American),(1886),(1969),(Male),c. 1950-52,Pencil on paper,\"6 x 8 1/2\"\" (15.2 x 21.6 cm)\",\"Mies van der Rohe Archive, gift of the architect\n",
      "Five part photo-portrait for Fluxus 1,George Maciunas,21398,\"(American, born Lithuania. 1931–1978)\",(American),(1931),(1978),(Male),1964-65,Offset on transparentized paper,\"Case: 23 1/2 x 22 1/2 x 4 1/2\"\" (59.7 x 57.2 x 11.4 cm)\n",
      "Fluxus 1,Emmett Williams,6377,\"(American, 1925–2007)\",(American),(1925),(2007),(Male),1964-65,Offset,\"Case: 23 1/2 x 22 1/2 x 4 1/2\"\" (59.7 x 57.2 x 11.4 cm)\n",
      "Fluxus 1,Various Artists,24409,\"\",(),(0),(0),(),1964-65,Double-sided offset,\"Case: 23 1/2 x 22 1/2 x 4 1/2\"\" (59.7 x 57.2 x 11.4 cm)\n",
      "Furnishing Fabric,Richard Riemerschmid,4918,\"(German, 1868–1957)\",(German),(1868),(1957),(Male),1905,Printed linen,\".7: 7 7/8 x 7 15/16\"\" (20 x 20.2 cm)\n",
      "Gellographic,Jan Dibbets,1533,\"(Dutch, born 1941)\",(Dutch),(1941),(0),(Male),1973,Chromogenic color print,\"8 9/16 x 11 3/16\"\" (21.7 x 28.4 cm)\n",
      "Horizon Studies,Jan Dibbets,1533,\"(Dutch, born 1941)\",(Dutch),(1941),(0),(Male),1971,Chromogenic color print,\"8 9/16 x 11 3/16\"\" (21.7 x 28.4 cm)\n",
      "Horizon Studies,Jan Dibbets,1533,\"(Dutch, born 1941)\",(Dutch),(1941),(0),(Male),1971,Gelatin silver print,\"8 9/16 x 11 3/16\"\" (21.7 x 28.4 cm)\n",
      "Hubbe-related Study (Floor plan sketch),Ludwig Mies van der Rohe,7166,\"(American, born Germany. 1886–1969)\",(American),(1886),(1969),(Male),c.1934-1935,Pencil on tissue paper,\"8 1/4 x 11 1/2\"\" (21 x 29.2 cm)\",\"Mies van der Rohe Archive, gift of the architect\n",
      "Hubbe-related Study,Ludwig Mies van der Rohe,7166,\"(American, born Germany. 1886–1969)\",(American),(1886),(1969),(Male),1934-1935,Ink on paper,\"8 1/4 x 11 1/2\"\" (21 x 29.2 cm)\",\"Mies van der Rohe Archive, gift of the architect\n",
      "Humming Heart,Hamish Fulton,2033,\"(British, born 1946)\",(British),(1946),(0),(Male),(1983),Photogravure,\"Sheet: 24 x 18 11/16\"\" (61 x 47.5 cm)\n",
      "Image (1 color print): 40 9/16 x 27 9/16\"\" (103 x 70 cm)\n",
      "Island of Kulangsu,John Thomson,5863,\"(British, 1837–1921)\",(British),(1837),(1921),(Male),1873,Collotype,\"18 9/16 x 13 3/8\"\" (47.2 x 34 cm)\n",
      "LE SPLEEN DE PARIS,Jean Mohler,4046,(French),(French),(0),(0),(Male),(n.d.),\"Prospectus for book including 3 etchings (verso of title page and 2 unbound plates), printed in black\",\"ea. plate  7 9/16 x 5 1/2\"\" (19.2 x 14 cm)\n",
      "Landscape Panoramas,Jan Dibbets,1533,\"(Dutch, born 1941)\",(Dutch),(1941),(0),(Male),1971,Chromogenic color print,\"8 9/16 x 11 3/16\"\" (21.7 x 28.4 cm)\n",
      "Landscape Panoramas,Jan Dibbets,1533,\"(Dutch, born 1941)\",(Dutch),(1941),(0),(Male),1971,Gelatin silver print,\"8 9/16 x 11 3/16\"\" (21.7 x 28.4 cm)\n",
      "Le Tricorne,Pablo Picasso,4609,\"(Spanish, 1881–1973)\",(Spanish),(1881),(1973),(Male),1920,\"One of 32 collotype reproductions (31 with pochoir) after costume designs for ballet\n",
      "Lip Prints,Donald Sultan,5726,\"(American, born 1951)\",(American),(1951),(0),(Male),October 1989,One from a series of four aquatints,\"each plate  3 1/16 x 4 5/16\"\" (7.8 x 10.9 cm)\n",
      "Man Standing Under Tree from Réincarnations du Père Ubu,Georges Rouault,5053,\"(French, 1871–1958)\",(French),(1871),(1958),(Male),(1932),\"Etching and aquatint with roulette\n",
      "Man in Profile from Réincarnations du Père Ubu,Georges Rouault,5053,\"(French, 1871–1958)\",(French),(1871),(1958),(Male),(1932),\"Etching and aquatint with roulette\n",
      "Manchu Female Coiffure,John Thomson,5863,\"(British, 1837–1921)\",(British),(1837),(1921),(Male),1874,Collotype,\"18 9/16 x 13 3/8\"\" (47.2 x 34 cm)\n",
      "Manchu Ladies,John Thomson,5863,\"(British, 1837–1921)\",(British),(1837),(1921),(Male),1874,Collotype,\"18 9/16 x 13 3/8\"\" (47.2 x 34 cm)\n",
      "Meeting Chairs,Laurence Humier,38240,\"(Belgian, born 1976)\",(Belgian),(1976),(0),(Female),2007-2008,\"Aluminum, zama, iron and pvc-coated polyester\",\"opened: 31 1/8 x 66 1/8 x 18 7/8\"\" (79 x 168 x 48 cm)\n",
      "Mongolian Male Head,John Thomson,5863,\"(British, 1837–1921)\",(British),(1837),(1921),(Male),1873,Collotype,\"18 9/16 x 13 3/8\"\" (47.2 x 34 cm)\n",
      "Museum Dinner Service (After dinner cup and saucer),Eva Zeisel,6556,\"(American, born Hungary. 1906–2011)\",(American),(1906),(2011),(Female),c. 1942-45,Glazed porcelain,\"after dinner cup: 2 x 3 1/2 x 3 1/2\"\" (5.1 x 8.9 x 8.9 cm)\n",
      "Museum Dinner Service (Covered sugar bowl),Eva Zeisel,6556,\"(American, born Hungary. 1906–2011)\",(American),(1906),(2011),(Female),c. 1942-45,Glazed porcelain,\"covered sugar bowl - overall: 3 x 4 3/4\"\" (7.6 x 12.1 cm)\n",
      "Museum Dinner Service (Cream soup and stand),Eva Zeisel,6556,\"(American, born Hungary. 1906–2011)\",(American),(1906),(2011),(Female),c. 1942-45,Glazed porcelain,\"cream soup: 2 x 4 3/4\"\" (5.1 x 12.1 cm)\n",
      "Museum Dinner Service (Tea cup and saucer),Eva Zeisel,6556,\"(American, born Hungary. 1906–2011)\",(American),(1906),(2011),(Female),c. 1942-45,Glazed porcelain,\"tea cup: 2 x 5 3/8 x 4 1/2\"\" (5.1 x 13.7 x 11.4 cm)\n",
      "Musicians,John Thomson,5863,\"(British, 1837–1921)\",(British),(1837),(1921),(Male),1873,Collotype,\"18 11/16 x 13 9/16\"\" (47.5 x 34.5 cm)\n",
      "My New Flame,Moritz Waldemeyer,32993,\"(German, born 1974)\",(German),(1974),(0),(Male),2012,\"Plastic, LEDs and chromed steel\",\".a (base): 1 x 3 3/4 x 3 5/8\"\" (2.5 x 1.9 x 9.2 cm)\n",
      "Nude from Réincarnations du Père Ubu,Georges Rouault,5053,\"(French, 1871–1958)\",(French),(1871),(1958),(Male),(1932),\"Etching and aquatint with roulette\n",
      "Numbers on Wall,Jan Dibbets,1533,\"(Dutch, born 1941)\",(Dutch),(1941),(0),(Male),1970,Gelatin silver print,\"8 9/16 x 11 3/16\"\" (21.7 x 28.4 cm)\n",
      "Organograma,José Damasceno,28598,\"(Brazilian, born 1968)\",(Brazilian),(1968),(0),(Male),2002,\"Stamped ink on board\n",
      "Peking Observatory,John Thomson,5863,\"(British, 1837–1921)\",(British),(1837),(1921),(Male),1874,Collotype,\"18 9/16 x 13 3/8\"\" (47.2 x 34 cm)\n",
      "Pepohoan Female Head,John Thomson,5863,\"(British, 1837–1921)\",(British),(1837),(1921),(Male),1873,Collotype,\"18 9/16 x 13 3/8\"\" (47.2 x 34 cm)\n",
      "Pepohoan Male Head,John Thomson,5863,\"(British, 1837–1921)\",(British),(1837),(1921),(Male),1873,Collotype,\"18 9/16 x 13 3/8\"\" (47.2 x 34 cm)\n",
      "Perspective Corrections,Jan Dibbets,1533,\"(Dutch, born 1941)\",(Dutch),(1941),(0),(Male),1967–98,Gelatin silver print,\"8 1/4 x 11 1/4\"\" (21 x 28.6 cm)\n",
      "Plate: 8 1/2 x 5 3/8\"\" (21.6 x 13.6 cm)\n",
      "Plate: 8 9/16 x 5 3/8\"\" (21.7 x 13.6 cm)\n",
      "Portrait of Emmett Williams for Fluxus 1,George Maciunas,21398,\"(American, born Lithuania. 1931–1978)\",(American),(1931),(1978),(Male),1964-65,Offset on transparentized paper,\"Case: 23 1/2 x 22 1/2 x 4 1/2\"\" (59.7 x 57.2 x 11.4 cm)\n",
      "Portrait of Jackson Mac Low as Edward Eggleston for Fluxus 1,George Maciunas,21398,\"(American, born Lithuania. 1931–1978)\",(American),(1931),(1978),(Male),1964-65,Offset on transparentized paper,\"Case: 23 1/2 x 22 1/2 x 4 1/2\"\" (59.7 x 57.2 x 11.4 cm)\n",
      "Posters: 19 x 10 1/2\"\" (48.3 x 26.7 cm)\",\"The Mary Joy Thompson Legacy Fund for Canadian Art and Committee on Prints and Illustrated Books Fund\n",
      "Reflection Studies,Jan Dibbets,1533,\"(Dutch, born 1941)\",(Dutch),(1941),(0),(Male),1973,Chromogenic color print,\"8 9/16 x 11 3/16\"\" (21.7 x 28.4 cm)\n",
      "Saenredam,Jan Dibbets,1533,\"(Dutch, born 1941)\",(Dutch),(1941),(0),(Male),1973,Chromogenic color print,\"8 9/16 x 11 3/16\"\" (21.7 x 28.4 cm)\n",
      "Saenredam,Jan Dibbets,1533,\"(Dutch, born 1941)\",(Dutch),(1941),(0),(Male),1973,Gelatin silver print,\"8 9/16 x 11 3/16\"\" (21.7 x 28.4 cm)\n",
      "Sheet: 12 11/16 x 9 13/16\"\" (32.2 x 25 cm)\n",
      "Sheet: 12 11/16 x 9 7/8\"\" (32.2 x 25.1 cm)\n",
      "Sheet: 15 3/4 x 10 3/4\"\" (40 x 27.3 cm)\n",
      "Shutterspeed Pieces,Jan Dibbets,1533,\"(Dutch, born 1941)\",(Dutch),(1941),(0),(Male),1971,Gelatin silver print,\"8 9/16 x 11 3/16\"\" (21.7 x 28.4 cm)\n",
      "Stars and Disasters (Astres et Désastres),Pierre Alechinsky,107,\"(Belgian, born 1927)\",(Belgian),(1927),(0),(Male),1969,Portfolio of nine aquatints; and photolithographic reproductions on two poster/text sheets,\"each plate  15 7/16 x 19 3/16\"\" (39.2 x 48.8 cm)\n",
      "Structure Panoramas,Jan Dibbets,1533,\"(Dutch, born 1941)\",(Dutch),(1941),(0),(Male),1973,Chromogenic color print,\"8 9/16 x 11 3/16\"\" (21.7 x 28.4 cm)\n",
      "Structure Panoramas,Jan Dibbets,1533,\"(Dutch, born 1941)\",(Dutch),(1941),(0),(Male),1973,Gelatin silver print,\"8 9/16 x 11 3/16\"\" (21.7 x 28.4 cm)\n",
      "Structure Studies,Jan Dibbets,1533,\"(Dutch, born 1941)\",(Dutch),(1941),(0),(Male),1973,Chromogenic color print,\"8 9/16 x 11 3/16\"\" (21.7 x 28.4 cm)\n",
      "Structure Studies,Jan Dibbets,1533,\"(Dutch, born 1941)\",(Dutch),(1941),(0),(Male),1973,Gelatin silver print,\"8 9/16 x 11 3/16\"\" (21.7 x 28.4 cm)\n",
      "Stupidogramm (Stupidogram),Dieter Roth,5042,\"(Swiss, born Germany. 1930–1998)\",(Swiss),(1930),(1998),(Male),1962,\"Pencil on printed paper\n",
      "Surface Series from Currents,Robert Rauschenberg,4823,\"(American, 1925–2008)\",(American),(1925),(2008),(Male),1970,One from a portfolio of 18 screenprints,\"composition: 35 1/16 x 35 1/16\"\" (89 x 89 cm); sheet: 40 x 40\"\" (101.6 x 101.6 cm)\n",
      "Szechuan Trading Boat,John Thomson,5863,\"(British, 1837–1921)\",(British),(1837),(1921),(Male),1874,Collotype,\"18 9/16 x 13 3/8\"\" (47.2 x 34 cm)\n",
      "THE FOURTEEN STATIONS OF THE CROSS,Robert Cremean,1301,\"(American, born 1932)\",(American),(1932),(0),(Male),\"(December 6, 1966-January 25, 1967)\",\"Fourteen lithographs, printed in color\",\"ea. approx. composition  22 1/16 x 15\"\" (56 x 38.1 cm)\n",
      "Tea Glass with Saucer and Stirrer,Josef Albers,97,\"(American, born Germany. 1888–1976)\",(American),(1888),(1976),(Male),1925,\"Heat-resistant glass, chrome-plated steel, ebony, and porcelain\",\".a (cup): 2 x 5 1/2 x 3 1/2\"\" (5.1 x 14 x 8.9 cm)\n",
      "Terminal City,Roy Arden,27818,\"(Canadian, born 1957)\",(Canadian),(1957),(0),(Male),1999,Gelatin silver print,\"12 13/16 x 16\"\" (32.5 x 40.6 cm)\n",
      "Text framed: 10 1/4 x 7 1/4 inches (26 x 18 cm)\n",
      "The American War,Harrell Fletcher,35134,\"(American, born 1967)\",(American),(1967),(0),(Male),2005,Pigmented inkjet prints,\"(a): 18 x 23 15/16\"\" (45.7 x 60.8 cm)\n",
      "The American War,Harrell Fletcher,35134,\"(American, born 1967)\",(American),(1967),(0),(Male),2005,Pigmented inkjet prints,\"(a): 23 15/16 x 18\"\" (60.8 x 45.7 cm)\n",
      "The Shortest Day at Konrad Fischer's Gallery,Jan Dibbets,1533,\"(Dutch, born 1941)\",(Dutch),(1941),(0),(Male),1967–98,Chromogenic color print,\"8 9/16 x 11 3/16\"\" (21.7 x 28.4 cm)\n",
      "The Tea Plant,John Thomson,5863,\"(British, 1837–1921)\",(British),(1837),(1921),(Male),1873,Collotype,\"18 9/16 x 13 3/8\"\" (47.2 x 34 cm)\n",
      "Theater project,Ludwig Mies van der Rohe,7166,\"(American, born Germany. 1886–1969)\",(American),(1886),(1969),(Male),1947,Pencil on paper,\"6 x 8 1/2\"\" (15.2 x 21.6 cm)\",\"Mies van der Rohe Archive, gift of the architect\n",
      "Toothbrush and Toothbrush Holder,Philippe Starck,8418,\"(French, born 1949)\",(French),(1949),(0),(Male),1989,Thermoplastic resin and ABS polymer,\"Overall: h. 7 7/8\"\" (20 cm)\n",
      "Top Cat Bag (model F13),\"Markus Freitag, Daniel Freitag\",\"26099, 26100\",\"(Swiss, born 1971) (Swiss, born 1972)\",(Swiss) (Swiss),(1971) (1972),(0) (0),(Male) (Male),1993,\"Used truck tarpaulins, seatbelts, and innertubes\",\"(maximum) 25 5/8 x 16 7/8 x 5 7/8\"\" (65 x 42.9 x 15 cm)\n",
      "Trial proof for PHENOMENA PASSING NOON,Paul Jenkins,2902,\"(American, 1923–2012)\",(American),(1923),(2012),(Male),1967,,\"composition  28 1/4 x 20 1/4\"\" (71.7 x 51.4 cm)\n",
      "Trial proof for VENTRILOQUIST,Jasper Johns,2923,\"(American, born 1930)\",(American),(1930),(0),(Male),1986,\"Lithograph, offset printed in color\",\"irreg. composition  36 5/8 x 24 5/8\"\" (93 x 62.5 cm)\n",
      "Trieste Ledger Series,William Kentridge,7919,\"(South African, born 1955)\",(South African),(1955),(0),(Male),(2002),\"Charcoal on ledger page\n",
      "Unidentified project (Floor plan sketch),Ludwig Mies van der Rohe,7166,\"(American, born Germany. 1886–1969)\",(American),(1886),(1969),(Male),c.1940-1960,Pencil on paper,\"6 x 8 1/2\"\" (15.2 x 21.6 cm)\",\"Mies van der Rohe Archive, gift of the architect\n",
      "Untitled (Proposal for a Museum of Modern Art Project),Gordon Matta-Clark,6636,\"(American, 1943–1978)\",(American),(1943),(1978),(Male),(1978),Felt-tip pen and pencil with cut-and-taped printed paper on printed paper,\"12 x 8 1/2\"\" (30.5 x 21.5 cm)\n",
      "Untitled for Fluxus 1,Congo (a Chimpanzee),20811,\"(Nationality unknown, 1954–1965)\",(Nationality unknown),(1954),(1965),(),1964-65,Offset,\"Case: 23 1/2 x 22 1/2 x 4 1/2\"\" (59.7 x 57.2 x 11.4 cm)\n",
      "Untitled for Fluxus 1,Stanley Brouwn,29982,\"(Dutch, born Suriname 1935)\",(Dutch),(1935),(0),(Male),1964-65,Offset on transparentized paper,\"Case: 23 1/2 x 22 1/2 x 4 1/2\"\" (59.7 x 57.2 x 11.4 cm)\n",
      "Untitled from 128 Details from a Picture (Halifax 1978) (128 Fotos von einem Bild (Halifax 1978)),Gerhard Richter,4907,\"(German, born 1932)\",(German),(1932),(0),(Male),1998,Photolithograph,\"composition  24 9/16 x 38 7/8\"\" (62.4 x 98.7 cm)\n",
      "Untitled from 1999,Jannis Kounellis,3230,\"(Greek, born 1936)\",(Greek),(1936),(0),(Male),1999,\"Letterpress print from a portfolio of twelve etching, drypoint, and aquatints with chiné colle; and four letterpress prints\n",
      "Untitled from 1999,Jannis Kounellis,3230,\"(Greek, born 1936)\",(Greek),(1936),(0),(Male),1999,\"One from a portfolio of twelve etching, drypoint, and aquatints with chiné colle; and four letterpress prints\n",
      "Untitled from 8 Trames 0°90° (8 Wefts 0°90°),François Morellet,4083,\"(French, 1926–2016)\",(French),(1926),(2016),(Male),(1974),One from a portfolio of eight double-sided screenprints,\"composition (irreg.) and sheet: 23 5/8 x 23 5/8\"\" (60 x 60 cm)\n",
      "Untitled from Architectonic vs. HR,Santiago Cucullu,31735,\"(Argentine, born 1969)\",(Argentine),(1969),(0),(Male),2006,\"One screenprint and lithograph from a portfolio of twelve screenprint and lithographs and one woodcut on fabric\n",
      "Untitled from Black Dahlias,Paul Morrison,28728,\"(British, born 1966)\",(British),(1966),(0),(Male),2002,One from a portfolio of twelve screenprints,\"composition (irreg.) and sheet: 28 3/4 x 38 3/8\"\" (73 x 97.4 cm)\n",
      "Untitled from Black Dahlias,Paul Morrison,28728,\"(British, born 1966)\",(British),(1966),(0),(Male),2002,One from a portfolio of twelve screenprints,\"composition and sheet: 28 3/4 x 38 3/8\"\" (73 x 97.4 cm)\n",
      "Untitled from Cuban Sketch Book,Jules Pascin,4514,\"(American, born Bulgaria. 1885–1930)\",(American),(1885),(1930),(Male),(c. 1914-20),\"a. Conté crayon on paper\n",
      "Untitled from Delicate Line (Corpse she was holding): Her head in the flames?,Chitra Ganesh,37879,\"(American, born 1975)\",(American),(1975),(0),(Female),2009,\"One screenprint from a portfolio of eleven screenprints, two with monotype, three with lithograph, two with digital printing, and two with linoleum cut, some with metallic powder or glitter\n",
      "Untitled from Delicate Line (Corpse she was holding): Her head in the flames?,Chitra Ganesh,37879,\"(American, born 1975)\",(American),(1975),(0),(Female),2009,\"One screenprint with lithograph from a portfolio of eleven screenprints, two with monotype, three with lithograph, two with digital printing, and two with linoleum cut, some with metallic powder or glitter\n",
      "Untitled from Demolished,Rachel Whiteread,6910,\"(British, born 1963)\",(British),(1963),(0),(Female),1996,One from a portfolio of twelve screenprints,\"composition and sheet: 19 3/16 x 29 5/16\"\" (48.8 x 74.4cm)\n",
      "Untitled from Exquisite Corpse,\"Jake Chapman, Dinos Chapman\",\"8266, 8267\",\"(British, born 1966) (British, born 1962)\",(British) (British),(1966) (1962),(0) (0),(Male) (Male),2000,Etching,\"Plate: 8 7/8 x 6 15/16\"\" (22.5 x 17.7 cm)\n",
      "Untitled from Flowers,Andy Warhol,6246,\"(American, 1928–1987)\",(American),(1928),(1987),(Male),1970,One from a portfolio of ten screenprints,\"composition and sheet: 36 1/8 x 36 1/16\"\" (91.8 x 91.6cm)\n",
      "Untitled from Just Good Eats for U Diner,Robert Heinecken,2578,\"(American, 1931–2006)\",(American),(1931),(2006),(Male),November 1971,Offset lithograph,\"10 1/16 x 8 3/8\"\" (25.5 x 21.2 cm)\n",
      "Untitled from Just Good Eats for U,Robert Heinecken,2578,\"(American, 1931–2006)\",(American),(1931),(2006),(Male),November 1971,Offset lithograph,\"10 1/16 x 8 3/8\"\" (25.5 x 21.2 cm)\n",
      "Untitled from Locus,Dorothea Rockburne,4972,\"(American, born Canada 1932)\",(American),(1932),(0),(Female),1972,One from a series of six relief etching and aquatints on folded paper,\"composition and sheet (approx., unfolded): 39 3/4 x 30 1/16\"\" (101 x 76.4 cm)\n",
      "Untitled from Ombre,Markus Raetz,4787,\"(Swiss, born 1941)\",(Swiss),(1941),(0),(Male),2007,One from a portfolio of seventeen photogravures,\"plate: 3 1/2 x 6 15/16\"\" (8.9 x 17.7 cm); sheet: 14 3/4 x 11 3/4\"\" (37.5 x 29.8 cm)\",\"Acquired through the generosity of The Print Associates Fund\n",
      "Untitled from Ombre,Markus Raetz,4787,\"(Swiss, born 1941)\",(Swiss),(1941),(0),(Male),2007,One from a portfolio of seventeen photogravures,\"plate: 3 9/16 x 6 15/16\"\" (9 x 17.7 cm); sheet: 14 3/4 x 11 3/4\"\" (37.5 x 29.8 cm)\",\"Acquired through the generosity of The Print Associates Fund\n",
      "Untitled from Studies,Nancy Rubins,7617,\"(American, born 1952)\",(American),(1952),(0),(Female),2006,\"One from a portfolio of six digital collages\n",
      "Untitled from Tailleur de Coeur,Rebecca Horn,7502,\"(German, born 1944)\",(German),(1944),(0),(Female),1998,\"Etching and aquatint with chine collé from a portfolio of twelve etching and aquatints with chine collé; and sixteen letterpress prints with artist's text\n",
      "Untitled from Tailleur de Coeur,Rebecca Horn,7502,\"(German, born 1944)\",(German),(1944),(0),(Female),1998,\"Letterpress print from a portfolio of twelve etching and aquatints with chine collé; and sixteen letterpress prints with artist's text\n",
      "Untitled from The French Portfolio,Joel Meyerowitz,3957,\"(American, born 1938)\",(American),(1938),(0),(Male),1980,Dye transfer print,\"12 1/2 x 18 11/16\"\" (31.8 x 47.4 cm)\n",
      "Untitled from Untitled,Craig Kauffman,3021,\"(American, 1932–2010)\",(American),(1932),(2010),(Male),1971,Lithograph,\"composition  21 7/16 x 26 3/4\"\" (54.4 x 67.9 cm)\n",
      "Untitled from the portfolio APN (Asahi Picture News),\"Kiyoji Otsuji, Katsuhiro Yamaguchi\",\"38961, 35538\",\"(Japanese, 1923–2001) (Japanese, born 1928)\",(Japanese) (Japanese),(1923) (1928),(2001) (0),(Male) (Male),1953-54,\"Gelatin silver print, printed 2002\",\"7 5/16 x 4 15/16\"\" (18.6 x 12.5 cm)\n",
      "Untitled from the portfolio Color Guard Etcetera,Juan Hidalgo,6972,\"(Spanish, born 1927)\",(Spanish),(1927),(0),(Male),1991,Lithograph,\"Sheet and Composition: 3 9/16 x 26 11/16\"\" (9 x 67.8 cm)\n",
      "Untitled from the portfolio Night Moods,Ralph Humphrey,2765,\"(American, 1932–1990)\",(American),(1932),(1990),(Male),1983,Etching,\"plate  23 3/4 x 23 13/16\"\" (60.3 x 60.5 cm)\n",
      "Untitled from the portfolio River Avon Mud Drawings,Richard Long,3591,\"(British, born 1945)\",(British),(1945),(0),(Male),(1989),Photolithograph,\"composition  25 3/8 x 37 9/16\"\" (64.5 x 95.5 cm)\n",
      "Untitled from the series 'Ten Thousand Things That Breathe',Renato Orara,28744,\"(American, born Philippines 1961)\",(American),(1961),(0),(Male),1998,\"Ballpoint pen on notebook paper\n",
      "Untitled from the series 'Ten Thousand Things That Breathe',Renato Orara,28744,\"(American, born Philippines 1961)\",(American),(1961),(0),(Male),2003,\"Ballpoint pen on notebook paper\n",
      "Untitled from the series 'Ten Thousand Things That Breathe',Renato Orara,28744,\"(American, born Philippines 1961)\",(American),(1961),(0),(Male),2004,\"Ballpoint pen on notebook paper\n",
      "Untitled from the series Album MA,Sándor (Alexander) Bortnyik,686,\"(Hungarian, 1893–1976)\",(Hungarian),(1893),(1976),(Male),\"1921, reprinted 1970\",Lithograph,\"Composition: 9 7/8 x 7 1/4\"\" (25.1 x 18.4 cm)\n",
      "Untitled,Cheyney Thompson,28834,\"(American, born 1975)\",(American),(1975),(0),(Male),2003,\"Ink and watercolor on notebook paper\n",
      "Untitled,Cheyney Thompson,28834,\"(American, born 1975)\",(American),(1975),(0),(Male),2003,\"Ink on paper\n",
      "Untitled,Dave Heath,2564,\"(American, born 1931)\",(American),(1931),(0),(Male),1962,Gelatin silver print,\"6 13/16 x 9 3/4\"\" (17.3 x 24.7 cm)\n",
      "Untitled,Donald Judd,2948,\"(American, 1928–1994)\",(American),(1928),(1994),(Male),1988,One from a portfolio of ten woodcuts,\"Composition (each approx.): 23 5/8 x 31 1/2\"\" (60 x 80 cm)\n",
      "Untitled,Donald Judd,2948,\"(American, 1928–1994)\",(American),(1928),(1994),(Male),1988,One from a portfolio of ten woodcuts,\"approx. composition  23 5/8 x 31 1/2\"\" (60 x 80 cm)\n",
      "Untitled,Ernesto Neto,25189,\"(Brazilian, born 1964)\",(Brazilian),(1964),(0),(Male),(2002),\"Saffron on paper\n",
      "Untitled,Eugene Feldman,1838,\"(American, born 1921)\",(American),(1921),(0),(Male),(c. 1964),\"Photo-offset lithograph, printed in color\",\"irreg composition  22 1/16 x 32 15/16\"\" (56 x 83.7 cm)\n",
      "Untitled,Franz West,7557,\"(Austrian, 1947–2012)\",(Austrian),(1947),(2012),(Male),(1973),\"Pencil on paper\n",
      "Untitled,Harry Callahan,924,\"(American, 1912–1999)\",(American),(1912),(1999),(Male),c. 1953,Gelatin silver print,\"2 3/16 x 2 3/16\"\" (5.6 x 5.5 cm)\n",
      "Untitled,Hugh Townley,5914,\"(American, 1923–2008)\",(American),(1923),(2008),(Male),(July 17-19) 1969,\"Lithograph, printed in black\",\"Comp (irreg., approx.):  5 1/4 x 6 9/16\"\" (13.4  x 16.7 cm)  \n",
      "Untitled,Hugh Townley,5914,\"(American, 1923–2008)\",(American),(1923),(2008),(Male),(May 12-16) 1969,\"Lithograph, printed in color\",\"composition  12 1/16 x 10\"\" (30.7 x 25.4 cm)\n",
      "Untitled,Jan Stussy,5712,\"(American, 1921–1990)\",(American),(1921),(1990),(Male),1970,\"Lithograph, printed in black\",\"composition  10 3/16 x 8 1/4\"\" (25.9 x 21 cm)\n",
      "Untitled,Jesse Reichek,4849,\"(American, 1916–2005)\",(American),(1916),(2005),(Male),(August 15) 1966,\"Lithograph, printed in black\",\"irreg. composition  3 x 3\"\" (7.7 x 7.7 cm)\n",
      "Untitled,Jesse Reichek,4849,\"(American, 1916–2005)\",(American),(1916),(2005),(Male),(August 18-23) 1966,\"Lithograph, printed in color\",\"ea. composition  5 15/16 x 5 15/16\"\" (15.2 x 15.2 cm)\n",
      "Untitled,Jim Goldberg,2212,\"(American, born 1953)\",(American),(1953),(0),(Male),\"January, 1978\",Gelatin silver print,\"5 13/16 x 8 11/16\"\" (14.8 x 22 cm)\n",
      "Untitled,Kn Thurlbeck,5870,\"(American, born 1947)\",(American),(1947),(0),(Male),1984,\"Aquatint, drypoint and photoetching\",\"plate  9 x 7 15/16\"\" (22.9 x 20.2 cm)\n",
      "Untitled,Lari Pittman,7616,\"(American, born 1952)\",(American),(1952),(0),(Male),(2002),\"Synthetic polymer paint and spray paint on paper\n",
      "Untitled,Lawrence Weiner,6288,\"(American, born 1942)\",(American),(1942),(0),(Male),1968,Ink on graph paper,\"11 x 8 1/2\"\" (27.9 x 21.6 cm)\n",
      "Untitled,Marcel Dzama,27712,\"(Canadian, born 1974)\",(Canadian),(1974),(0),(Male),2003,\"Ink, watercolor, and root beer concentrate on paper\n",
      "Untitled,Marcel van Eeden,28614,\"(Dutch, born 1965)\",(Dutch),(1965),(0),(Male),(2002),\"Pencil on paper\n",
      "Untitled,Marcel van Eeden,28614,\"(Dutch, born 1965)\",(Dutch),(1965),(0),(Male),(2002),Pencil on paper,\"7 1/2 x 11 1/8\"\" (19 x 28.3 cm)\n",
      "Untitled,Neil Farber,28617,\"(Canadian, born 1975)\",(Canadian),(1975),(0),(Male),1999,\"Ink and colored ink on paper\n",
      "Untitled,Neil Farber,28617,\"(Canadian, born 1975)\",(Canadian),(1975),(0),(Male),2002,\"Ink and colored ink on paper\n",
      "Untitled,Neil Farber,28617,\"(Canadian, born 1975)\",(Canadian),(1975),(0),(Male),2002,\"Ink, colored ink, and pencil on paper\n",
      "Untitled,Per Kirkeby,3118,\"(Danish, born 1938)\",(Danish),(1938),(0),(Male),(1978),\"Watercolor on transparentized paper\n",
      "Untitled,Per Kirkeby,3118,\"(Danish, born 1938)\",(Danish),(1938),(0),(Male),1978,\"Watercolor on transparentized paper\n",
      "Untitled,Raqib Shaw,28429,\"(Indian, born 1974)\",(Indian),(1974),(0),(Male),2004,\"Synthetic polymer paint, glitter, pencil, and rhinestones on paper\n",
      "Untitled,Tony Swain,28828,\"(British, born 1967)\",(British),(1967),(0),(Male),2004,\"Synthetic polymer paint and cut-and-pasted printed paper on printed paper\n",
      "Untitled,Unknown photographer,8595,\"\",(),(0),(0),(),1860s,Ambrotype,\"2 3/4 x 2 1/4\"\" (7 x 5.7 cm)\n",
      "Untitled,Wallace Berman,505,\"(American, 1926–1976)\",(American),(1926),(1976),(Male),(1967),\"Verifax collage in four sections, with transfer type additions\",\"composition  12 x 12 15/16\"\" (30.5 x 32.9 cm)\n",
      "Untitled. (album of cartes-de-visite),Unknown photographer,8595,\"\",(),(0),(0),(),n.d.,\"Albumen silver prints except for .3, .29 and .110\",\"each 3 9/16 x 2 1/4\"\" (9 x 5.7 cm)\n",
      "Unused preparatory drawing from In Memory of My Feelings,Helen Frankenthaler,1974,\"(American, 1928–2011)\",(American),(1928),(2011),(Female),1967,\".a: Pencil on acetate\n",
      "Variations for Double Bass for Fluxus 1,Benjamin Patterson,4520,\"(American, 1934–2016)\",(American),(1934),(2016),(Male),1964-65,Offset,\"Case: 23 1/2 x 22 1/2 x 4 1/2\"\" (59.7 x 57.2 x 11.4 cm)\n",
      "Venetian Blind,Jan Dibbets,1533,\"(Dutch, born 1941)\",(Dutch),(1941),(0),(Male),1970,Chromogenic color print,\"8 9/16 x 11 3/16\"\" (21.7 x 28.4 cm)\n",
      "Water Structures,Jan Dibbets,1533,\"(Dutch, born 1941)\",(Dutch),(1941),(0),(Male),1973,Chromogenic color print,\"8 9/16 x 11 3/16\"\" (21.7 x 28.4 cm)\n",
      "Weed Study,Harry Callahan,924,\"(American, 1912–1999)\",(American),(1912),(1999),(Male),1948,Gelatin silver print,\"2 5/16 x 2 3/16\"\" (5.8 x 5.5 cm)\n",
      "Windows,Jan Dibbets,1533,\"(Dutch, born 1941)\",(Dutch),(1941),(0),(Male),1973,Chromogenic color print,\"8 9/16 x 11 3/16\"\" (21.7 x 28.4 cm)\n",
      "Wounds and Absent Objects,Anish Kapoor,2995,\"(British, born India 1954)\",(British),(1954),(0),(Male),1998,One from a portfolio of nine pigment tranfer prints,\"comp.: (each): 17 5/8 x 21 1/16\"\" (44.7 x 53.5 cm)\n",
      "XO Laptop from the One Laptop per Child (OLPC) project,\"One Laptop per Child, Nicholas Negroponte, Rebecca Allen, Mary Lou Jepsen, Mark Foster, Michail Bletsas, V. Michael Bove, Yves Béhar, Bret Recor, fuseproject, Jacques Gagné, Gecko Design, Colin Bulthaup, Squid Labs, John Hutchinson, Freeplay Energy Plc., Quanta\",\"33149, 33195, 33372, 33196, 33371, 33373, 33374, 33197, 33200, 27724, 33198, 33199, 33201, 33202, 29036, 27802, 33203\",\"(USA, est. 2005) (American, born 1943) (American, born 1953) (American, born 1965) (American, born 1960) (Greek, born 1967) (American, born 1960) (Swiss, born 1967) (American, born 1974) (USA, est. 1999) (Canadian, born 1959) (USA, est. 1996) (American, born 1976) (USA, est. 2004) (South African, born 1952) (South Africa, est. 1996) (Taiwan, est. 1988)\",(American) (American) (American) (American) (American) (Greek) (American) (Swiss) (American) () (Canadian) (American) (American) (American) (South African) (South African) (Taiwanese),(2005) (1943) (1953) (1965) (1960) (1967) (1960) (1967) (1974) (1999) (1959) (1996) (1976) (2004) (1952) (1996) (1988),(0) (0) (0) (0) (0) (0) (0) (0) (0) (0) (0) (0) (0) (0) (0) (0) (0),() (Male) (Female) (Female) () (Male) (Male) (Male) () () () () () () () () (),2005-ongoing,\"PC/ABS plastic, rubber, and other materials\",\".1: 9 1/2 x 9 x 1 1/8\"\" (24.1 x 22.9 cm, 1 1/8\"\")\n",
      "bowl: 2 1/2 x 4 3/4\"\" (6.4 x 12.1 cm)\n",
      "c. Printed paper\n",
      "from PERSONNAGES,Maryan S. Maryan,3813,\"(American, born Poland. 1927–1977)\",(American),(1927),(1977),(Male),1962-63,\"Linoleum cut, printed in black\",\"ea. approx. composition  12 x 9\"\" (30.5 x 22.9 cm)\n",
      "mono-Ring Flatware,Peter Raacke,4777,\"(German, born 1928)\",(German),(1928),(0),(Male),1966,Stainless steel and plastic-coated metal,\".1 (fork): l. 8 1/4\"\" (21 cm)\n",
      "page  14 9/16 x 11\"\" (37 x 28 cm)\n",
      "plate  6 11/16 x 10 3/16\"\" (16.9 x 25.8 cm)\n",
      "plate  7 3/8 x 5 3/4\"\" (18.8 x 14.7 cm)\n",
      "plate plate  9 11/16 x 6 1/4\"\" (24.6 x 15.9 cm)\n",
      "sheet  12 x 12 15/16\"\" (30.5 x 32.9 cm)\n",
      "untitled,Suzan Frecon,8092,\"(American, born 1941)\",(American),(1941),(0),(Female),(2003),\"Watercolor on paper\n"
     ]
    }
   ],
   "source": [
    "! sort artworks.csv | uniq -d"
   ]
  },
  {
   "cell_type": "code",
   "execution_count": 42,
   "metadata": {
    "collapsed": false
   },
   "outputs": [
    {
     "name": "stdout",
     "output_type": "stream",
     "text": [
      "  141225\r\n"
     ]
    }
   ],
   "source": [
    "! sort artworks.csv | uniq -u | wc -l"
   ]
  },
  {
   "cell_type": "markdown",
   "metadata": {},
   "source": [
    "Si comparamos este valor, con el que nos arrojó el wc unos pasos más atrás (143015 artworks.csv) NOS DAMOS CUENTA QUE HAY 1790 REGISTROS REPETIDOS!!!\n"
   ]
  },
  {
   "cell_type": "markdown",
   "metadata": {},
   "source": [
    "Aunque a veces es difícil recordar todos los parámetros de los comandos, familiarizarse con ellos beneficiará nuestro trabajo y nuestra productividad y nos permitirá evitar muchos dolores de cabeza al trabajar con archivos de texto de gran tamaño, y archivos en general."
   ]
  },
  {
   "cell_type": "markdown",
   "metadata": {
    "collapsed": true
   },
   "source": [
    "Referencias: \n",
    "    https://www.dataquest.io/blog/data-cleaning-command-line/\n",
    "    https://csvkit.readthedocs.io/en/1.0.1/tutorial/3_power_tools.html\n",
    "    http://www.gregreda.com/2013/07/15/unix-commands-for-data-science/\n",
    "        "
   ]
  },
  {
   "cell_type": "markdown",
   "metadata": {
    "collapsed": true
   },
   "source": []
  }
 ],
 "metadata": {
  "anaconda-cloud": {},
  "kernelspec": {
   "display_name": "Python 2",
   "language": "python",
   "name": "python2"
  },
  "language_info": {
   "codemirror_mode": {
    "name": "ipython",
    "version": 2
   },
   "file_extension": ".py",
   "mimetype": "text/x-python",
   "name": "python",
   "nbconvert_exporter": "python",
   "pygments_lexer": "ipython2",
   "version": "2.7.12"
  }
 },
 "nbformat": 4,
 "nbformat_minor": 1
}
